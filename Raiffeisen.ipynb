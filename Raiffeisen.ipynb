{
 "cells": [
  {
   "cell_type": "code",
   "execution_count": 68,
   "metadata": {},
   "outputs": [],
   "source": [
    "import pandas as pd\n",
    "import seaborn as sns\n",
    "import matplotlib.pyplot as plt\n",
    "%matplotlib inline\n",
    "\n",
    "\n",
    "from sklearn.model_selection import GroupKFold\n",
    "from sklearn.model_selection import train_test_split,TimeSeriesSplit\n",
    "from sklearn.preprocessing import StandardScaler,MinMaxScaler,PolynomialFeatures,OneHotEncoder\n",
    "from sklearn.impute import SimpleImputer\n",
    "\n",
    "import lightgbm as lgb\n",
    "\n",
    "from sklearn.metrics import accuracy_score,roc_auc_score, f1_score,roc_curve,auc\n",
    "from sklearn.model_selection import cross_val_score, StratifiedKFold, GridSearchCV\n",
    "from sklearn.ensemble import RandomForestClassifier\n",
    "from sklearn.linear_model import LogisticRegressionCV,LogisticRegression\n",
    "from sklearn.neighbors import KNeighborsClassifier\n",
    "from sklearn.svm import SVC\n",
    "\n",
    "import numpy as np\n"
   ]
  },
  {
   "cell_type": "markdown",
   "metadata": {},
   "source": [
    "## Loading data"
   ]
  },
  {
   "cell_type": "code",
   "execution_count": 3,
   "metadata": {},
   "outputs": [],
   "source": [
    "# Считываем данные из csv\n",
    "df = pd.read_csv('Raif_data.csv', encoding='utf-8',sep=';')"
   ]
  },
  {
   "cell_type": "code",
   "execution_count": 5,
   "metadata": {},
   "outputs": [
    {
     "data": {
      "text/html": [
       "<div>\n",
       "<style scoped>\n",
       "    .dataframe tbody tr th:only-of-type {\n",
       "        vertical-align: middle;\n",
       "    }\n",
       "\n",
       "    .dataframe tbody tr th {\n",
       "        vertical-align: top;\n",
       "    }\n",
       "\n",
       "    .dataframe thead th {\n",
       "        text-align: right;\n",
       "    }\n",
       "</style>\n",
       "<table border=\"1\" class=\"dataframe\">\n",
       "  <thead>\n",
       "    <tr style=\"text-align: right;\">\n",
       "      <th></th>\n",
       "      <th>customer_month_salary</th>\n",
       "      <th>sum_credit_current</th>\n",
       "      <th>term_credit_current</th>\n",
       "      <th>form</th>\n",
       "      <th>sphere</th>\n",
       "      <th>type</th>\n",
       "      <th>EDUCATION</th>\n",
       "      <th>age</th>\n",
       "      <th>marital_status</th>\n",
       "      <th>time_at_work</th>\n",
       "      <th>GENDER</th>\n",
       "      <th>month_passport_issued</th>\n",
       "      <th>month_with_bank</th>\n",
       "      <th>CITY</th>\n",
       "      <th>target</th>\n",
       "      <th>ID</th>\n",
       "    </tr>\n",
       "  </thead>\n",
       "  <tbody>\n",
       "    <tr>\n",
       "      <th>0</th>\n",
       "      <td>52350.25</td>\n",
       "      <td>500000</td>\n",
       "      <td>59</td>\n",
       "      <td>ООО</td>\n",
       "      <td>Наука, Образование, Здравоохранение</td>\n",
       "      <td>вспомогательный персонал</td>\n",
       "      <td>высшее</td>\n",
       "      <td>44</td>\n",
       "      <td>холост / не замужем</td>\n",
       "      <td>68.0</td>\n",
       "      <td>мужской</td>\n",
       "      <td>124</td>\n",
       "      <td>67.0</td>\n",
       "      <td>Москва</td>\n",
       "      <td>1</td>\n",
       "      <td>1</td>\n",
       "    </tr>\n",
       "    <tr>\n",
       "      <th>1</th>\n",
       "      <td>115000.00</td>\n",
       "      <td>400000</td>\n",
       "      <td>60</td>\n",
       "      <td>Иная форма</td>\n",
       "      <td>Другое</td>\n",
       "      <td>специалист</td>\n",
       "      <td>высшее</td>\n",
       "      <td>30</td>\n",
       "      <td>холост / не замужем</td>\n",
       "      <td>96.0</td>\n",
       "      <td>мужской</td>\n",
       "      <td>107</td>\n",
       "      <td>68.0</td>\n",
       "      <td>Москва</td>\n",
       "      <td>1</td>\n",
       "      <td>2</td>\n",
       "    </tr>\n",
       "    <tr>\n",
       "      <th>2</th>\n",
       "      <td>87000.00</td>\n",
       "      <td>361000</td>\n",
       "      <td>60</td>\n",
       "      <td>ОАО</td>\n",
       "      <td>Финансы, управляющие компании, банки, страхование</td>\n",
       "      <td>специалист</td>\n",
       "      <td>Высшее/Второе высшее/Ученая степень</td>\n",
       "      <td>28</td>\n",
       "      <td>женат / замужем</td>\n",
       "      <td>117.0</td>\n",
       "      <td>женский</td>\n",
       "      <td>2</td>\n",
       "      <td>72.0</td>\n",
       "      <td>Москва</td>\n",
       "      <td>1</td>\n",
       "      <td>3</td>\n",
       "    </tr>\n",
       "    <tr>\n",
       "      <th>3</th>\n",
       "      <td>145358.17</td>\n",
       "      <td>1499000</td>\n",
       "      <td>60</td>\n",
       "      <td>ЗАО</td>\n",
       "      <td>Финансы, управляющие компании, банки, страхование</td>\n",
       "      <td>менеджер среднего звена</td>\n",
       "      <td>Высшее/Второе высшее/Ученая степень</td>\n",
       "      <td>30</td>\n",
       "      <td>женат / замужем</td>\n",
       "      <td>35.0</td>\n",
       "      <td>мужской</td>\n",
       "      <td>124</td>\n",
       "      <td>70.0</td>\n",
       "      <td>Москва</td>\n",
       "      <td>1</td>\n",
       "      <td>4</td>\n",
       "    </tr>\n",
       "    <tr>\n",
       "      <th>4</th>\n",
       "      <td>50000.00</td>\n",
       "      <td>365000</td>\n",
       "      <td>60</td>\n",
       "      <td>ООО</td>\n",
       "      <td>Другое</td>\n",
       "      <td>специалист</td>\n",
       "      <td>среднее-специальное</td>\n",
       "      <td>31</td>\n",
       "      <td>холост / не замужем</td>\n",
       "      <td>48.0</td>\n",
       "      <td>мужской</td>\n",
       "      <td>131</td>\n",
       "      <td>88.0</td>\n",
       "      <td>Москва</td>\n",
       "      <td>1</td>\n",
       "      <td>5</td>\n",
       "    </tr>\n",
       "  </tbody>\n",
       "</table>\n",
       "</div>"
      ],
      "text/plain": [
       "   customer_month_salary  sum_credit_current  term_credit_current        form  \\\n",
       "0               52350.25              500000                   59         ООО   \n",
       "1              115000.00              400000                   60  Иная форма   \n",
       "2               87000.00              361000                   60         ОАО   \n",
       "3              145358.17             1499000                   60         ЗАО   \n",
       "4               50000.00              365000                   60         ООО   \n",
       "\n",
       "                                              sphere  \\\n",
       "0                Наука, Образование, Здравоохранение   \n",
       "1                                             Другое   \n",
       "2  Финансы, управляющие компании, банки, страхование   \n",
       "3  Финансы, управляющие компании, банки, страхование   \n",
       "4                                             Другое   \n",
       "\n",
       "                       type                            EDUCATION  age  \\\n",
       "0  вспомогательный персонал                               высшее   44   \n",
       "1                специалист                               высшее   30   \n",
       "2                специалист  Высшее/Второе высшее/Ученая степень   28   \n",
       "3   менеджер среднего звена  Высшее/Второе высшее/Ученая степень   30   \n",
       "4                специалист                  среднее-специальное   31   \n",
       "\n",
       "        marital_status  time_at_work   GENDER  month_passport_issued  \\\n",
       "0  холост / не замужем          68.0  мужской                    124   \n",
       "1  холост / не замужем          96.0  мужской                    107   \n",
       "2      женат / замужем         117.0  женский                      2   \n",
       "3      женат / замужем          35.0  мужской                    124   \n",
       "4  холост / не замужем          48.0  мужской                    131   \n",
       "\n",
       "   month_with_bank    CITY  target  ID  \n",
       "0             67.0  Москва       1   1  \n",
       "1             68.0  Москва       1   2  \n",
       "2             72.0  Москва       1   3  \n",
       "3             70.0  Москва       1   4  \n",
       "4             88.0  Москва       1   5  "
      ]
     },
     "execution_count": 5,
     "metadata": {},
     "output_type": "execute_result"
    }
   ],
   "source": [
    "df.head(5)"
   ]
  },
  {
   "cell_type": "code",
   "execution_count": 6,
   "metadata": {},
   "outputs": [
    {
     "name": "stdout",
     "output_type": "stream",
     "text": [
      "<class 'pandas.core.frame.DataFrame'>\n",
      "RangeIndex: 4771 entries, 0 to 4770\n",
      "Data columns (total 16 columns):\n",
      "customer_month_salary    4730 non-null float64\n",
      "sum_credit_current       4771 non-null int64\n",
      "term_credit_current      4771 non-null int64\n",
      "form                     4749 non-null object\n",
      "sphere                   4752 non-null object\n",
      "type                     4745 non-null object\n",
      "EDUCATION                4754 non-null object\n",
      "age                      4771 non-null int64\n",
      "marital_status           4771 non-null object\n",
      "time_at_work             4754 non-null float64\n",
      "GENDER                   4771 non-null object\n",
      "month_passport_issued    4771 non-null int64\n",
      "month_with_bank          3732 non-null float64\n",
      "CITY                     4767 non-null object\n",
      "target                   4771 non-null int64\n",
      "ID                       4771 non-null int64\n",
      "dtypes: float64(3), int64(6), object(7)\n",
      "memory usage: 596.5+ KB\n"
     ]
    }
   ],
   "source": [
    "df.info()"
   ]
  },
  {
   "cell_type": "code",
   "execution_count": 7,
   "metadata": {},
   "outputs": [
    {
     "data": {
      "text/html": [
       "<div>\n",
       "<style scoped>\n",
       "    .dataframe tbody tr th:only-of-type {\n",
       "        vertical-align: middle;\n",
       "    }\n",
       "\n",
       "    .dataframe tbody tr th {\n",
       "        vertical-align: top;\n",
       "    }\n",
       "\n",
       "    .dataframe thead th {\n",
       "        text-align: right;\n",
       "    }\n",
       "</style>\n",
       "<table border=\"1\" class=\"dataframe\">\n",
       "  <thead>\n",
       "    <tr style=\"text-align: right;\">\n",
       "      <th></th>\n",
       "      <th>customer_month_salary</th>\n",
       "      <th>sum_credit_current</th>\n",
       "      <th>term_credit_current</th>\n",
       "      <th>age</th>\n",
       "      <th>time_at_work</th>\n",
       "      <th>month_passport_issued</th>\n",
       "      <th>month_with_bank</th>\n",
       "      <th>target</th>\n",
       "      <th>ID</th>\n",
       "    </tr>\n",
       "  </thead>\n",
       "  <tbody>\n",
       "    <tr>\n",
       "      <th>count</th>\n",
       "      <td>4.730000e+03</td>\n",
       "      <td>4.771000e+03</td>\n",
       "      <td>4771.000000</td>\n",
       "      <td>4771.000000</td>\n",
       "      <td>4754.000000</td>\n",
       "      <td>4771.000000</td>\n",
       "      <td>3732.000000</td>\n",
       "      <td>4771.000000</td>\n",
       "      <td>4771.000000</td>\n",
       "    </tr>\n",
       "    <tr>\n",
       "      <th>mean</th>\n",
       "      <td>5.779673e+04</td>\n",
       "      <td>3.396049e+05</td>\n",
       "      <td>48.706141</td>\n",
       "      <td>36.961643</td>\n",
       "      <td>60.999159</td>\n",
       "      <td>92.163488</td>\n",
       "      <td>43.957663</td>\n",
       "      <td>0.329281</td>\n",
       "      <td>2386.000000</td>\n",
       "    </tr>\n",
       "    <tr>\n",
       "      <th>std</th>\n",
       "      <td>6.308617e+04</td>\n",
       "      <td>3.001721e+05</td>\n",
       "      <td>16.167960</td>\n",
       "      <td>9.373140</td>\n",
       "      <td>64.448633</td>\n",
       "      <td>48.746911</td>\n",
       "      <td>34.134775</td>\n",
       "      <td>0.470001</td>\n",
       "      <td>1377.413397</td>\n",
       "    </tr>\n",
       "    <tr>\n",
       "      <th>min</th>\n",
       "      <td>0.000000e+00</td>\n",
       "      <td>3.000000e+04</td>\n",
       "      <td>12.000000</td>\n",
       "      <td>22.000000</td>\n",
       "      <td>0.000000</td>\n",
       "      <td>0.000000</td>\n",
       "      <td>-1.000000</td>\n",
       "      <td>0.000000</td>\n",
       "      <td>1.000000</td>\n",
       "    </tr>\n",
       "    <tr>\n",
       "      <th>25%</th>\n",
       "      <td>2.800000e+04</td>\n",
       "      <td>1.510000e+05</td>\n",
       "      <td>36.000000</td>\n",
       "      <td>29.000000</td>\n",
       "      <td>15.000000</td>\n",
       "      <td>52.000000</td>\n",
       "      <td>17.000000</td>\n",
       "      <td>0.000000</td>\n",
       "      <td>1193.500000</td>\n",
       "    </tr>\n",
       "    <tr>\n",
       "      <th>50%</th>\n",
       "      <td>4.137263e+04</td>\n",
       "      <td>2.740000e+05</td>\n",
       "      <td>60.000000</td>\n",
       "      <td>35.000000</td>\n",
       "      <td>39.000000</td>\n",
       "      <td>93.000000</td>\n",
       "      <td>36.000000</td>\n",
       "      <td>0.000000</td>\n",
       "      <td>2386.000000</td>\n",
       "    </tr>\n",
       "    <tr>\n",
       "      <th>75%</th>\n",
       "      <td>6.500000e+04</td>\n",
       "      <td>4.400000e+05</td>\n",
       "      <td>60.000000</td>\n",
       "      <td>44.000000</td>\n",
       "      <td>82.000000</td>\n",
       "      <td>134.000000</td>\n",
       "      <td>62.000000</td>\n",
       "      <td>1.000000</td>\n",
       "      <td>3578.500000</td>\n",
       "    </tr>\n",
       "    <tr>\n",
       "      <th>max</th>\n",
       "      <td>1.357620e+06</td>\n",
       "      <td>8.000000e+06</td>\n",
       "      <td>84.000000</td>\n",
       "      <td>64.000000</td>\n",
       "      <td>478.000000</td>\n",
       "      <td>230.000000</td>\n",
       "      <td>200.000000</td>\n",
       "      <td>1.000000</td>\n",
       "      <td>4771.000000</td>\n",
       "    </tr>\n",
       "  </tbody>\n",
       "</table>\n",
       "</div>"
      ],
      "text/plain": [
       "       customer_month_salary  sum_credit_current  term_credit_current  \\\n",
       "count           4.730000e+03        4.771000e+03          4771.000000   \n",
       "mean            5.779673e+04        3.396049e+05            48.706141   \n",
       "std             6.308617e+04        3.001721e+05            16.167960   \n",
       "min             0.000000e+00        3.000000e+04            12.000000   \n",
       "25%             2.800000e+04        1.510000e+05            36.000000   \n",
       "50%             4.137263e+04        2.740000e+05            60.000000   \n",
       "75%             6.500000e+04        4.400000e+05            60.000000   \n",
       "max             1.357620e+06        8.000000e+06            84.000000   \n",
       "\n",
       "               age  time_at_work  month_passport_issued  month_with_bank  \\\n",
       "count  4771.000000   4754.000000            4771.000000      3732.000000   \n",
       "mean     36.961643     60.999159              92.163488        43.957663   \n",
       "std       9.373140     64.448633              48.746911        34.134775   \n",
       "min      22.000000      0.000000               0.000000        -1.000000   \n",
       "25%      29.000000     15.000000              52.000000        17.000000   \n",
       "50%      35.000000     39.000000              93.000000        36.000000   \n",
       "75%      44.000000     82.000000             134.000000        62.000000   \n",
       "max      64.000000    478.000000             230.000000       200.000000   \n",
       "\n",
       "            target           ID  \n",
       "count  4771.000000  4771.000000  \n",
       "mean      0.329281  2386.000000  \n",
       "std       0.470001  1377.413397  \n",
       "min       0.000000     1.000000  \n",
       "25%       0.000000  1193.500000  \n",
       "50%       0.000000  2386.000000  \n",
       "75%       1.000000  3578.500000  \n",
       "max       1.000000  4771.000000  "
      ]
     },
     "execution_count": 7,
     "metadata": {},
     "output_type": "execute_result"
    }
   ],
   "source": [
    "df.describe()"
   ]
  },
  {
   "cell_type": "markdown",
   "metadata": {},
   "source": [
    "## Data preparation"
   ]
  },
  {
   "cell_type": "code",
   "execution_count": 15,
   "metadata": {},
   "outputs": [],
   "source": [
    "#Numeric values\n",
    "\n",
    "# Заполняем пропуски медианным значением, т.к. распределение имеет длинный хвост\n",
    "df['customer_month_salary'].fillna(df['customer_month_salary'].median(), inplace=True)\n",
    "# Логарифмируем, чтобы избавится от хвоста и сделать распределение нормальным\n",
    "df['customer_month_salary']=df['customer_month_salary'].apply(np.log1p)\n",
    "\n",
    "# Заполняем пропуски медианным значением, т.к. распределение имеет длинный хвост\n",
    "df['time_at_work'].fillna(df['time_at_work'].median(), inplace=True)\n",
    "# Логарифмируем, чтобы избавится от хвоста и сделать распределение нормальным\n",
    "df['time_at_work']=df['time_at_work'].apply(np.log1p)\n",
    "\n",
    "# Исправляем кривое значение\n",
    "df.loc[df['month_with_bank'] == -1,'month_with_bank'] = 0\n",
    "# По смыслу признака для заполнения пустот больше подходит 0 и распределение target для\n",
    "# пустого признака отличается, поэтому лучше его отделить от выборки\n",
    "df['month_with_bank'].fillna(0, inplace=True)\n",
    "# Логарифмируем, чтобы избавится от хвоста и сделать распределение нормальным\n",
    "df['month_with_bank']=df['month_with_bank'].apply(np.log1p)\n",
    "\n",
    "\n",
    "#df['month_passport_issued'] = df['month_passport_issued']/20\n",
    "#df['term_credit_current'] = df['term_credit_current']/10\n",
    "\n",
    "# Логарифмируем, чтобы избавится от хвоста и сделать распределение нормальным\n",
    "df['sum_credit_current']=df['sum_credit_current'].apply(np.log1p)\n",
    "\n",
    "#Categoric values\n",
    "\n",
    "# Заполняем пустоты отдельной категорией, т.к. распределение target для пустот отличается \n",
    "# от общего распределения признака\n",
    "df['form'].fillna('unknown',inplace=True)\n",
    "df['sphere'].fillna('unknown',inplace=True)\n",
    "\n",
    "# Схлопываем одинаковые категории и категорию с малым кол-вом значений преобразуем в похожую (страх агент)\n",
    "df['type'] = df['type'].replace(to_replace=['Собственное дело','страховой агент','собственное дело'],value=['собственное дело','специалист','собственное дело'])\n",
    "df['type'].fillna('unknown',inplace=True)\n",
    "# Категории с малым кол-вом значений преобразуем в похожие (с похожими распределениями)\n",
    "df['EDUCATION'] = df['EDUCATION'].replace(to_replace=['ученая степень','Неполное среднее'],value=['Высшее/Второе высшее/Ученая степень',np.nan])\n",
    "df['EDUCATION'].fillna('unknown',inplace=True)\n",
    "# Категории с малым кол-вом значений преобразуем в похожие (с похожими распределениями)\n",
    "df['marital_status'] = df['marital_status'].replace(to_replace=['вдовец / вдова'],value=['холост / не замужем'])\n",
    "# Распеределение target у категории NaN похоже на Москву (и значений мало), поэтому можно подставить\n",
    "df['CITY'].fillna('Москва',inplace=True)\n",
    "\n"
   ]
  },
  {
   "cell_type": "code",
   "execution_count": 16,
   "metadata": {},
   "outputs": [],
   "source": [
    "# Удаляем столбец с id\n",
    "df.drop(['ID'],inplace=True,axis=1)"
   ]
  },
  {
   "cell_type": "code",
   "execution_count": 58,
   "metadata": {},
   "outputs": [],
   "source": [
    "def col_target_dep(col, w=7, h=5):\n",
    "    '''Plot pd barh for target dependance on current category feature '''\n",
    "    vis = pd.DataFrame(df[df['target']==0][col].value_counts(normalize=True,dropna=False))\n",
    "    vis['1'] = df[df['target']==1][col].value_counts(normalize=True,dropna=False)\n",
    "    vis.columns = ['0','1']\n",
    "    vis = vis.sort_values(by='1')\n",
    "    vis.plot.barh(figsize=(w,h))"
   ]
  },
  {
   "cell_type": "markdown",
   "metadata": {},
   "source": [
    "## Data analyse"
   ]
  },
  {
   "cell_type": "markdown",
   "metadata": {},
   "source": [
    "### customer_month_salary"
   ]
  },
  {
   "cell_type": "code",
   "execution_count": 18,
   "metadata": {},
   "outputs": [
    {
     "name": "stderr",
     "output_type": "stream",
     "text": [
      "/home/dmitriy/anaconda3/lib/python3.7/site-packages/scipy/stats/stats.py:1713: FutureWarning: Using a non-tuple sequence for multidimensional indexing is deprecated; use `arr[tuple(seq)]` instead of `arr[seq]`. In the future this will be interpreted as an array index, `arr[np.array(seq)]`, which will result either in an error or a different result.\n",
      "  return np.add.reduce(sorted[indexer] * weights, axis=axis) / sumval\n"
     ]
    },
    {
     "data": {
      "text/plain": [
       "<matplotlib.legend.Legend at 0x7fc7133e8400>"
      ]
     },
     "execution_count": 18,
     "metadata": {},
     "output_type": "execute_result"
    },
    {
     "data": {
      "image/png": "[encoded data removed]",
      "text/plain": [
       "<Figure size 720x576 with 1 Axes>"
      ]
     },
     "metadata": {
      "needs_background": "light"
     },
     "output_type": "display_data"
    }
   ],
   "source": [
    "plt.figure(figsize=(10,8))\n",
    "sns.distplot(df[df['target']==0]['customer_month_salary'],kde=False,label=0)\n",
    "sns.distplot(df[df['target']==1]['customer_month_salary'],kde=False,label=1)\n",
    "plt.legend()"
   ]
  },
  {
   "cell_type": "markdown",
   "metadata": {},
   "source": [
    "### sum_credit_current"
   ]
  },
  {
   "cell_type": "code",
   "execution_count": 19,
   "metadata": {},
   "outputs": [
    {
     "data": {
      "text/plain": [
       "<matplotlib.legend.Legend at 0x7fc712e184a8>"
      ]
     },
     "execution_count": 19,
     "metadata": {},
     "output_type": "execute_result"
    },
    {
     "data": {
      "image/png": "[encoded data removed]",
      "text/plain": [
       "<Figure size 720x576 with 1 Axes>"
      ]
     },
     "metadata": {
      "needs_background": "light"
     },
     "output_type": "display_data"
    }
   ],
   "source": [
    "plt.figure(figsize=(10,8))\n",
    "sns.distplot(df[df['target']==0]['sum_credit_current'],kde=False,label=0)\n",
    "sns.distplot(df[df['target']==1]['sum_credit_current'],kde=False,label=1)\n",
    "plt.legend()"
   ]
  },
  {
   "cell_type": "markdown",
   "metadata": {},
   "source": [
    "### term_credit_current"
   ]
  },
  {
   "cell_type": "code",
   "execution_count": 20,
   "metadata": {},
   "outputs": [
    {
     "data": {
      "text/plain": [
       "<matplotlib.legend.Legend at 0x7fc712f29470>"
      ]
     },
     "execution_count": 20,
     "metadata": {},
     "output_type": "execute_result"
    },
    {
     "data": {
      "image/png": "[encoded data removed]",
      "text/plain": [
       "<Figure size 720x576 with 1 Axes>"
      ]
     },
     "metadata": {
      "needs_background": "light"
     },
     "output_type": "display_data"
    }
   ],
   "source": [
    "plt.figure(figsize=(10,8))\n",
    "sns.distplot(df[df['target']==0]['term_credit_current'],kde=False,label=0)\n",
    "sns.distplot(df[df['target']==1]['term_credit_current'],kde=False,label=1)\n",
    "plt.legend()"
   ]
  },
  {
   "cell_type": "markdown",
   "metadata": {},
   "source": [
    "### Form"
   ]
  },
  {
   "cell_type": "code",
   "execution_count": 21,
   "metadata": {},
   "outputs": [
    {
     "data": {
      "image/png": "[encoded data removed]",
      "text/plain": [
       "<Figure size 504x360 with 1 Axes>"
      ]
     },
     "metadata": {
      "needs_background": "light"
     },
     "output_type": "display_data"
    }
   ],
   "source": [
    "col_target_dep('form')"
   ]
  },
  {
   "cell_type": "markdown",
   "metadata": {},
   "source": [
    "### Sphere"
   ]
  },
  {
   "cell_type": "code",
   "execution_count": 22,
   "metadata": {},
   "outputs": [
    {
     "data": {
      "image/png": "[encoded data removed]",
      "text/plain": [
       "<Figure size 720x576 with 1 Axes>"
      ]
     },
     "metadata": {
      "needs_background": "light"
     },
     "output_type": "display_data"
    }
   ],
   "source": [
    "col_target_dep('sphere', 10,8)\n"
   ]
  },
  {
   "cell_type": "markdown",
   "metadata": {},
   "source": [
    "### Type"
   ]
  },
  {
   "cell_type": "code",
   "execution_count": 23,
   "metadata": {},
   "outputs": [
    {
     "data": {
      "image/png": "[encoded data removed]",
      "text/plain": [
       "<Figure size 720x576 with 1 Axes>"
      ]
     },
     "metadata": {
      "needs_background": "light"
     },
     "output_type": "display_data"
    }
   ],
   "source": [
    "col_target_dep('type', 10, 8)"
   ]
  },
  {
   "cell_type": "markdown",
   "metadata": {},
   "source": [
    "### Education\n"
   ]
  },
  {
   "cell_type": "code",
   "execution_count": 24,
   "metadata": {},
   "outputs": [
    {
     "data": {
      "image/png": "[encoded data removed]",
      "text/plain": [
       "<Figure size 720x576 with 1 Axes>"
      ]
     },
     "metadata": {
      "needs_background": "light"
     },
     "output_type": "display_data"
    }
   ],
   "source": [
    "col_target_dep('EDUCATION', 10, 8)"
   ]
  },
  {
   "cell_type": "markdown",
   "metadata": {},
   "source": [
    "### age"
   ]
  },
  {
   "cell_type": "code",
   "execution_count": 26,
   "metadata": {},
   "outputs": [
    {
     "data": {
      "text/plain": [
       "<matplotlib.legend.Legend at 0x7fc70fcd19b0>"
      ]
     },
     "execution_count": 26,
     "metadata": {},
     "output_type": "execute_result"
    },
    {
     "data": {
      "image/png": "[encoded data removed]",
      "text/plain": [
       "<Figure size 720x576 with 1 Axes>"
      ]
     },
     "metadata": {
      "needs_background": "light"
     },
     "output_type": "display_data"
    }
   ],
   "source": [
    "plt.figure(figsize=(10,8))\n",
    "sns.distplot(df[df['target']==0]['age'],kde=False,label=0)\n",
    "sns.distplot(df[df['target']==1]['age'],kde=False,label=1)\n",
    "plt.legend()"
   ]
  },
  {
   "cell_type": "markdown",
   "metadata": {},
   "source": [
    "### marital_status"
   ]
  },
  {
   "cell_type": "code",
   "execution_count": 27,
   "metadata": {},
   "outputs": [
    {
     "data": {
      "image/png": "[encoded data removed]",
      "text/plain": [
       "<Figure size 720x576 with 1 Axes>"
      ]
     },
     "metadata": {
      "needs_background": "light"
     },
     "output_type": "display_data"
    }
   ],
   "source": [
    "col_target_dep('marital_status', 10, 8)"
   ]
  },
  {
   "cell_type": "markdown",
   "metadata": {},
   "source": [
    "### Gender"
   ]
  },
  {
   "cell_type": "code",
   "execution_count": 28,
   "metadata": {},
   "outputs": [
    {
     "data": {
      "image/png": "[encoded data removed]",
      "text/plain": [
       "<Figure size 504x360 with 1 Axes>"
      ]
     },
     "metadata": {
      "needs_background": "light"
     },
     "output_type": "display_data"
    }
   ],
   "source": [
    "col_target_dep('GENDER')"
   ]
  },
  {
   "cell_type": "markdown",
   "metadata": {},
   "source": [
    "### time_at_work"
   ]
  },
  {
   "cell_type": "code",
   "execution_count": 29,
   "metadata": {},
   "outputs": [
    {
     "data": {
      "text/plain": [
       "<matplotlib.legend.Legend at 0x7fc70f9b20b8>"
      ]
     },
     "execution_count": 29,
     "metadata": {},
     "output_type": "execute_result"
    },
    {
     "data": {
      "image/png": "[encoded data removed]",
      "text/plain": [
       "<Figure size 720x576 with 1 Axes>"
      ]
     },
     "metadata": {
      "needs_background": "light"
     },
     "output_type": "display_data"
    }
   ],
   "source": [
    "plt.figure(figsize=(10,8))\n",
    "sns.distplot(df[df['target']==0]['time_at_work'],kde=False,label=0)\n",
    "sns.distplot(df[df['target']==1]['time_at_work'],kde=False,label=1)\n",
    "plt.legend()"
   ]
  },
  {
   "cell_type": "markdown",
   "metadata": {},
   "source": [
    "### month_passport_issued"
   ]
  },
  {
   "cell_type": "code",
   "execution_count": 31,
   "metadata": {},
   "outputs": [
    {
     "data": {
      "text/plain": [
       "<matplotlib.legend.Legend at 0x7fc70f899fd0>"
      ]
     },
     "execution_count": 31,
     "metadata": {},
     "output_type": "execute_result"
    },
    {
     "data": {
      "image/png": "[encoded data removed]",
      "text/plain": [
       "<Figure size 720x576 with 1 Axes>"
      ]
     },
     "metadata": {
      "needs_background": "light"
     },
     "output_type": "display_data"
    }
   ],
   "source": [
    "plt.figure(figsize=(10,8))\n",
    "sns.distplot(df[df['target']==0]['month_passport_issued'],kde=False,label=0)\n",
    "sns.distplot(df[df['target']==1]['month_passport_issued'],kde=False,label=1)\n",
    "plt.legend()"
   ]
  },
  {
   "cell_type": "markdown",
   "metadata": {},
   "source": [
    "### month_with_bank\n"
   ]
  },
  {
   "cell_type": "code",
   "execution_count": 24,
   "metadata": {},
   "outputs": [
    {
     "data": {
      "text/plain": [
       "<matplotlib.legend.Legend at 0x7fd790681a20>"
      ]
     },
     "execution_count": 24,
     "metadata": {},
     "output_type": "execute_result"
    },
    {
     "data": {
      "image/png": "[encoded data removed]",
      "text/plain": [
       "<Figure size 720x576 with 1 Axes>"
      ]
     },
     "metadata": {
      "needs_background": "light"
     },
     "output_type": "display_data"
    }
   ],
   "source": [
    "plt.figure(figsize=(10,8))\n",
    "sns.distplot(df[df['target']==0]['month_with_bank'],kde=False,label=0)\n",
    "sns.distplot(df[df['target']==1]['month_with_bank'],kde=False,label=1)\n",
    "plt.legend()"
   ]
  },
  {
   "cell_type": "markdown",
   "metadata": {},
   "source": [
    "### City\n"
   ]
  },
  {
   "cell_type": "code",
   "execution_count": 25,
   "metadata": {},
   "outputs": [
    {
     "data": {
      "image/png": "[encoded data removed]",
      "text/plain": [
       "<Figure size 864x1008 with 1 Axes>"
      ]
     },
     "metadata": {
      "needs_background": "light"
     },
     "output_type": "display_data"
    }
   ],
   "source": [
    "col_target_dep('CITY', 12, 14)"
   ]
  },
  {
   "cell_type": "code",
   "execution_count": 32,
   "metadata": {},
   "outputs": [],
   "source": [
    "# Видно, что в некоторых городах процент единиц выше, чем нулей\n",
    "# Для таких городов создаем отдельный признак\n",
    "count_t0,count_t1 = df['target'].value_counts().values\n",
    "\n",
    "cross_city = pd.crosstab(df['CITY'],df['target'])\n",
    "cross_city[0] = cross_city[0]/count_t0\n",
    "cross_city[1] = cross_city[1]/count_t1\n",
    "\n",
    "bad_cities = cross_city[cross_city[1]>cross_city[0]].index\n",
    "\n",
    "df['bad_city'] = df['CITY'].apply(lambda x: True if x in bad_cities else False)"
   ]
  },
  {
   "cell_type": "code",
   "execution_count": 33,
   "metadata": {},
   "outputs": [
    {
     "name": "stdout",
     "output_type": "stream",
     "text": [
      "<class 'pandas.core.frame.DataFrame'>\n",
      "RangeIndex: 4771 entries, 0 to 4770\n",
      "Data columns (total 16 columns):\n",
      "customer_month_salary    4771 non-null float64\n",
      "sum_credit_current       4771 non-null float64\n",
      "term_credit_current      4771 non-null int64\n",
      "form                     4771 non-null object\n",
      "sphere                   4771 non-null object\n",
      "type                     4771 non-null object\n",
      "EDUCATION                4771 non-null object\n",
      "age                      4771 non-null int64\n",
      "marital_status           4771 non-null object\n",
      "time_at_work             4771 non-null float64\n",
      "GENDER                   4771 non-null object\n",
      "month_passport_issued    4771 non-null int64\n",
      "month_with_bank          4771 non-null float64\n",
      "CITY                     4771 non-null object\n",
      "target                   4771 non-null int64\n",
      "bad_city                 4771 non-null bool\n",
      "dtypes: bool(1), float64(4), int64(4), object(7)\n",
      "memory usage: 563.8+ KB\n"
     ]
    }
   ],
   "source": [
    "df.info()"
   ]
  },
  {
   "cell_type": "code",
   "execution_count": 34,
   "metadata": {},
   "outputs": [
    {
     "data": {
      "text/html": [
       "<div>\n",
       "<style scoped>\n",
       "    .dataframe tbody tr th:only-of-type {\n",
       "        vertical-align: middle;\n",
       "    }\n",
       "\n",
       "    .dataframe tbody tr th {\n",
       "        vertical-align: top;\n",
       "    }\n",
       "\n",
       "    .dataframe thead th {\n",
       "        text-align: right;\n",
       "    }\n",
       "</style>\n",
       "<table border=\"1\" class=\"dataframe\">\n",
       "  <thead>\n",
       "    <tr style=\"text-align: right;\">\n",
       "      <th></th>\n",
       "      <th>customer_month_salary</th>\n",
       "      <th>sum_credit_current</th>\n",
       "      <th>term_credit_current</th>\n",
       "      <th>age</th>\n",
       "      <th>time_at_work</th>\n",
       "      <th>month_passport_issued</th>\n",
       "      <th>month_with_bank</th>\n",
       "      <th>target</th>\n",
       "    </tr>\n",
       "  </thead>\n",
       "  <tbody>\n",
       "    <tr>\n",
       "      <th>count</th>\n",
       "      <td>4771.000000</td>\n",
       "      <td>4771.000000</td>\n",
       "      <td>4771.000000</td>\n",
       "      <td>4771.000000</td>\n",
       "      <td>4771.000000</td>\n",
       "      <td>4771.000000</td>\n",
       "      <td>4771.000000</td>\n",
       "      <td>4771.000000</td>\n",
       "    </tr>\n",
       "    <tr>\n",
       "      <th>mean</th>\n",
       "      <td>10.637975</td>\n",
       "      <td>12.470931</td>\n",
       "      <td>48.706141</td>\n",
       "      <td>36.961643</td>\n",
       "      <td>3.623596</td>\n",
       "      <td>92.163488</td>\n",
       "      <td>2.709375</td>\n",
       "      <td>0.329281</td>\n",
       "    </tr>\n",
       "    <tr>\n",
       "      <th>std</th>\n",
       "      <td>1.082964</td>\n",
       "      <td>0.725815</td>\n",
       "      <td>16.167960</td>\n",
       "      <td>9.373140</td>\n",
       "      <td>1.055590</td>\n",
       "      <td>48.746911</td>\n",
       "      <td>1.643537</td>\n",
       "      <td>0.470001</td>\n",
       "    </tr>\n",
       "    <tr>\n",
       "      <th>min</th>\n",
       "      <td>0.000000</td>\n",
       "      <td>10.308986</td>\n",
       "      <td>12.000000</td>\n",
       "      <td>22.000000</td>\n",
       "      <td>0.000000</td>\n",
       "      <td>0.000000</td>\n",
       "      <td>0.000000</td>\n",
       "      <td>0.000000</td>\n",
       "    </tr>\n",
       "    <tr>\n",
       "      <th>25%</th>\n",
       "      <td>10.244084</td>\n",
       "      <td>11.925042</td>\n",
       "      <td>36.000000</td>\n",
       "      <td>29.000000</td>\n",
       "      <td>2.772589</td>\n",
       "      <td>52.000000</td>\n",
       "      <td>1.609438</td>\n",
       "      <td>0.000000</td>\n",
       "    </tr>\n",
       "    <tr>\n",
       "      <th>50%</th>\n",
       "      <td>10.630399</td>\n",
       "      <td>12.520887</td>\n",
       "      <td>60.000000</td>\n",
       "      <td>35.000000</td>\n",
       "      <td>3.688879</td>\n",
       "      <td>93.000000</td>\n",
       "      <td>3.258097</td>\n",
       "      <td>0.000000</td>\n",
       "    </tr>\n",
       "    <tr>\n",
       "      <th>75%</th>\n",
       "      <td>11.080527</td>\n",
       "      <td>12.994532</td>\n",
       "      <td>60.000000</td>\n",
       "      <td>44.000000</td>\n",
       "      <td>4.418841</td>\n",
       "      <td>134.000000</td>\n",
       "      <td>3.988984</td>\n",
       "      <td>1.000000</td>\n",
       "    </tr>\n",
       "    <tr>\n",
       "      <th>max</th>\n",
       "      <td>14.121244</td>\n",
       "      <td>15.894952</td>\n",
       "      <td>84.000000</td>\n",
       "      <td>64.000000</td>\n",
       "      <td>6.171701</td>\n",
       "      <td>230.000000</td>\n",
       "      <td>5.303305</td>\n",
       "      <td>1.000000</td>\n",
       "    </tr>\n",
       "  </tbody>\n",
       "</table>\n",
       "</div>"
      ],
      "text/plain": [
       "       customer_month_salary  sum_credit_current  term_credit_current  \\\n",
       "count            4771.000000         4771.000000          4771.000000   \n",
       "mean               10.637975           12.470931            48.706141   \n",
       "std                 1.082964            0.725815            16.167960   \n",
       "min                 0.000000           10.308986            12.000000   \n",
       "25%                10.244084           11.925042            36.000000   \n",
       "50%                10.630399           12.520887            60.000000   \n",
       "75%                11.080527           12.994532            60.000000   \n",
       "max                14.121244           15.894952            84.000000   \n",
       "\n",
       "               age  time_at_work  month_passport_issued  month_with_bank  \\\n",
       "count  4771.000000   4771.000000            4771.000000      4771.000000   \n",
       "mean     36.961643      3.623596              92.163488         2.709375   \n",
       "std       9.373140      1.055590              48.746911         1.643537   \n",
       "min      22.000000      0.000000               0.000000         0.000000   \n",
       "25%      29.000000      2.772589              52.000000         1.609438   \n",
       "50%      35.000000      3.688879              93.000000         3.258097   \n",
       "75%      44.000000      4.418841             134.000000         3.988984   \n",
       "max      64.000000      6.171701             230.000000         5.303305   \n",
       "\n",
       "            target  \n",
       "count  4771.000000  \n",
       "mean      0.329281  \n",
       "std       0.470001  \n",
       "min       0.000000  \n",
       "25%       0.000000  \n",
       "50%       0.000000  \n",
       "75%       1.000000  \n",
       "max       1.000000  "
      ]
     },
     "execution_count": 34,
     "metadata": {},
     "output_type": "execute_result"
    }
   ],
   "source": [
    "df.describe()"
   ]
  },
  {
   "cell_type": "markdown",
   "metadata": {},
   "source": [
    "Все пустоты заполнены <br>\n",
    "Все распределения числовых признаков похожи на нормальное <br>\n",
    "\n"
   ]
  },
  {
   "cell_type": "markdown",
   "metadata": {},
   "source": [
    "## Preprocessing for models"
   ]
  },
  {
   "cell_type": "code",
   "execution_count": 50,
   "metadata": {},
   "outputs": [],
   "source": [
    "y = df['target']\n",
    "df_train = df.drop(['target'],axis=1)"
   ]
  },
  {
   "cell_type": "code",
   "execution_count": 51,
   "metadata": {},
   "outputs": [],
   "source": [
    "# Находим категориальные и числовые колонки\n",
    "cat_cols = [col for col in df_train.columns \n",
    "           if  df_train[col].dtype=='object' or df_train[col].dtype=='bool'\n",
    "           ]\n",
    "num_cols = [y for y in df_train.columns if y not in cat_cols]\n",
    "cat_indexes = [x for x,y in enumerate(df_train.columns) if y in cat_cols]\n",
    "num_indexes = [x for x,y in enumerate(df_train.columns) if y not in cat_cols]\n",
    "\n",
    "ohe_indexes = [x for x,y in enumerate(df_train.columns) if y in cat_cols and y not in ['GENDER','bad_city']]"
   ]
  },
  {
   "cell_type": "code",
   "execution_count": 54,
   "metadata": {},
   "outputs": [],
   "source": [
    "# Кодируем строковые и bool категории в числа (для регрессии и для lgbm)\n",
    "for f in cat_cols:\n",
    "    df_train[f], indexer = pd.factorize(df_train[f])"
   ]
  },
  {
   "cell_type": "code",
   "execution_count": 55,
   "metadata": {},
   "outputs": [
    {
     "name": "stderr",
     "output_type": "stream",
     "text": [
      "/home/dmitriy/anaconda3/lib/python3.7/site-packages/sklearn/preprocessing/_encoders.py:368: FutureWarning: The handling of integer data will change in version 0.22. Currently, the categories are determined based on the range [0, max(values)], while in the future they will be determined based on the unique values.\n",
      "If you want the future behaviour and silence this warning, you can specify \"categories='auto'\".\n",
      "In case you used a LabelEncoder before this OneHotEncoder to convert the categories to integers, then you can now use the OneHotEncoder directly.\n",
      "  warnings.warn(msg, FutureWarning)\n",
      "/home/dmitriy/anaconda3/lib/python3.7/site-packages/sklearn/preprocessing/_encoders.py:390: DeprecationWarning: The 'categorical_features' keyword is deprecated in version 0.20 and will be removed in 0.22. You can use the ColumnTransformer instead.\n",
      "  \"use the ColumnTransformer instead.\", DeprecationWarning)\n"
     ]
    },
    {
     "data": {
      "text/plain": [
       "OneHotEncoder(categorical_features=[[3, 4, 5, 6, 8, 13]], categories=None,\n",
       "       dtype=<class 'numpy.float64'>, handle_unknown='error',\n",
       "       n_values=None, sparse=True)"
      ]
     },
     "execution_count": 55,
     "metadata": {},
     "output_type": "execute_result"
    }
   ],
   "source": [
    "# Тренируем OHE для категориальных признаков\n",
    "ohe = OneHotEncoder(categorical_features=[ohe_indexes])\n",
    "ohe.fit(df_train)"
   ]
  },
  {
   "cell_type": "code",
   "execution_count": 56,
   "metadata": {},
   "outputs": [
    {
     "name": "stderr",
     "output_type": "stream",
     "text": [
      "/home/dmitriy/anaconda3/lib/python3.7/site-packages/sklearn/preprocessing/data.py:323: DataConversionWarning: Data with input dtype int64, float64 were all converted to float64 by MinMaxScaler.\n",
      "  return self.partial_fit(X, y)\n"
     ]
    }
   ],
   "source": [
    "# Скалируем числовые признаки при помощи MinMaxScaler\n",
    "mmscaler = MinMaxScaler((0,1))\n",
    "df_mm_replace = pd.DataFrame(mmscaler.fit_transform(df_train.iloc[:,num_indexes]), columns = num_cols)\n",
    "for col in df_mm_replace.columns:\n",
    "    df_train[col] = df_mm_replace[col]"
   ]
  },
  {
   "cell_type": "code",
   "execution_count": 57,
   "metadata": {},
   "outputs": [],
   "source": [
    "# Разбиваем выборку на обучающую и валидационную\n",
    "X_train,X_test,y_train,y_test = train_test_split(df_train,y,test_size=0.2,random_state=20)"
   ]
  },
  {
   "cell_type": "code",
   "execution_count": 60,
   "metadata": {},
   "outputs": [],
   "source": [
    "def augment_data(df):\n",
    "    '''Augment current DataFrame in the same proportion of target feature\n",
    "    return: (X,y)'''\n",
    "    df_0 = df[df['target'] == 0]\n",
    "    df_1 = df[df['target'] == 1]\n",
    "    aug_df = df.copy()\n",
    "    for i in range(25):\n",
    "        aug_df = pd.concat([aug_df,df_0.sample(frac=0.8),df_1.sample(frac=0.8)]).sample(frac=1)\n",
    "    aug_df = aug_df.reset_index(drop=True)\n",
    "    \n",
    "    return aug_df.drop(['target'],axis=1),aug_df['target']"
   ]
  },
  {
   "cell_type": "code",
   "execution_count": 61,
   "metadata": {},
   "outputs": [],
   "source": [
    "# Т.к. выборка довольно мала, наращиваем выборку \n",
    "X_train,y_train = augment_data(pd.concat([X_train,y_train],axis=1))"
   ]
  },
  {
   "cell_type": "code",
   "execution_count": 62,
   "metadata": {},
   "outputs": [],
   "source": [
    "# Получаем данные после ohe-encoding\n",
    "X_train_ohe = ohe.transform(X_train)\n",
    "X_test_ohe = ohe.transform(X_test)"
   ]
  },
  {
   "cell_type": "code",
   "execution_count": 65,
   "metadata": {},
   "outputs": [
    {
     "data": {
      "text/plain": [
       "(80116, 15)"
      ]
     },
     "execution_count": 65,
     "metadata": {},
     "output_type": "execute_result"
    }
   ],
   "source": [
    "X_train.shape"
   ]
  },
  {
   "cell_type": "code",
   "execution_count": 66,
   "metadata": {},
   "outputs": [],
   "source": [
    "# Создаем параметры разбиений для кросс-валидации\n",
    "cv = StratifiedKFold(n_splits=5, shuffle=True)"
   ]
  },
  {
   "cell_type": "code",
   "execution_count": 71,
   "metadata": {},
   "outputs": [],
   "source": [
    "def plot_roc(y_test, y_pred):\n",
    "    '''Plot ROC curve'''\n",
    "    fpr, tpr, threshold = roc_curve(y_test, y_pred[:,1])\n",
    "    plt.title('Receiver Operating Characteristic')\n",
    "    plt.plot(fpr, tpr, 'b', label = 'AUC = %0.2f' % auc(fpr, tpr))\n",
    "    plt.legend(loc = 'lower right')\n",
    "    plt.plot([0, 1], [0, 1],'r--')\n",
    "    plt.xlim([0, 1])\n",
    "    plt.ylim([0, 1])\n",
    "    plt.ylabel('True Positive Rate')\n",
    "    plt.xlabel('False Positive Rate')\n",
    "    plt.show()"
   ]
  },
  {
   "cell_type": "markdown",
   "metadata": {},
   "source": [
    "## Modeling"
   ]
  },
  {
   "cell_type": "markdown",
   "metadata": {},
   "source": [
    "Выбираем метрику ROC-AUC для классификации, т.к. она хорошо работает для несбалансированных классов <br>\n"
   ]
  },
  {
   "cell_type": "markdown",
   "metadata": {},
   "source": [
    "### Logistic regression"
   ]
  },
  {
   "cell_type": "code",
   "execution_count": 72,
   "metadata": {},
   "outputs": [],
   "source": [
    "# Инициализируем модель\n",
    "logit = LogisticRegression(n_jobs=-1, random_state=20,C=0.1,solver='lbfgs')"
   ]
  },
  {
   "cell_type": "code",
   "execution_count": 73,
   "metadata": {},
   "outputs": [
    {
     "data": {
      "text/plain": [
       "array([0.74048952, 0.7396468 , 0.73249779, 0.73356629, 0.73284267])"
      ]
     },
     "execution_count": 73,
     "metadata": {},
     "output_type": "execute_result"
    }
   ],
   "source": [
    "# Получаем значения на кросс-валидации\n",
    "cross_val_score(logit,X_train_ohe,y_train,scoring='roc_auc',cv=cv)"
   ]
  },
  {
   "cell_type": "code",
   "execution_count": null,
   "metadata": {},
   "outputs": [],
   "source": []
  },
  {
   "cell_type": "code",
   "execution_count": 74,
   "metadata": {},
   "outputs": [
    {
     "data": {
      "text/plain": [
       "LogisticRegression(C=0.1, class_weight=None, dual=False, fit_intercept=True,\n",
       "          intercept_scaling=1, max_iter=100, multi_class='warn', n_jobs=-1,\n",
       "          penalty='l2', random_state=20, solver='lbfgs', tol=0.0001,\n",
       "          verbose=0, warm_start=False)"
      ]
     },
     "execution_count": 74,
     "metadata": {},
     "output_type": "execute_result"
    }
   ],
   "source": [
    "# Обучаем классификатор\n",
    "logit.fit(X_train_ohe,y_train)"
   ]
  },
  {
   "cell_type": "code",
   "execution_count": 76,
   "metadata": {},
   "outputs": [
    {
     "name": "stdout",
     "output_type": "stream",
     "text": [
      "roc = 0.7383057143968569\n",
      "f1 = 0.4274193548387097\n"
     ]
    }
   ],
   "source": [
    "# Пoлучаем предсказания и считаем метрики для отложенной выборки\n",
    "# Для доп. проверки смотрю еще f1 метрику\n",
    "y_pred_logit = logit.predict_proba(X_test_ohe)\n",
    "y_pred_class_logit = logit.predict(X_test_ohe)\n",
    "print(f'roc = {roc_auc_score(y_test,y_pred_logit[:,1])}')\n",
    "print(f'f1 = {f1_score(y_test,y_pred_class_logit)}')"
   ]
  },
  {
   "cell_type": "code",
   "execution_count": 77,
   "metadata": {},
   "outputs": [
    {
     "data": {
      "image/png": "[encoded data removed]",
      "text/plain": [
       "<Figure size 432x288 with 1 Axes>"
      ]
     },
     "metadata": {
      "needs_background": "light"
     },
     "output_type": "display_data"
    }
   ],
   "source": [
    "plot_roc(y_test, y_pred_logit)"
   ]
  },
  {
   "cell_type": "markdown",
   "metadata": {},
   "source": [
    "### LightGBM"
   ]
  },
  {
   "cell_type": "code",
   "execution_count": 85,
   "metadata": {},
   "outputs": [],
   "source": [
    "# Пробовал уменьшать кол-во знаков в числовых параметрах для лучшего обучения деревьев\n",
    "#X_train = X_train.round({i:3  for i in X_train.columns if X_train[i].dtype=='float'})\n",
    "#X_test = X_test.round({i:3  for i in X_test.columns if X_test[i].dtype=='float'})"
   ]
  },
  {
   "cell_type": "code",
   "execution_count": 98,
   "metadata": {},
   "outputs": [],
   "source": [
    "# Инициализируем lightGBM\n",
    "lgbcl = lgb.LGBMClassifier(\n",
    "        #num_leaves=31,\n",
    "        #max_depth = 5,\n",
    "        learning_rate=0.01,\n",
    "        n_estimators=2000,\n",
    "        #subsample=.9,\n",
    "        #colsample_bytree=.9,\n",
    "        random_state=1,\n",
    "        n_jobs=-1\n",
    "    )\n",
    "\n",
    "        "
   ]
  },
  {
   "cell_type": "code",
   "execution_count": 81,
   "metadata": {},
   "outputs": [
    {
     "data": {
      "text/plain": [
       "array([0.99860076, 0.99851401, 0.99865619, 0.99863114, 0.99910312])"
      ]
     },
     "execution_count": 81,
     "metadata": {},
     "output_type": "execute_result"
    }
   ],
   "source": [
    "# Получаем значения на кросс-валидации\n",
    "cross_val_score(lgbcl,X_train,y_train,scoring='roc_auc',cv=cv)"
   ]
  },
  {
   "cell_type": "markdown",
   "metadata": {},
   "source": [
    "Такие высокий значения получились потому что выборка дополнена повсторяющимися значениями <br>\n",
    "и при кросс-валидации тестовые данные присутствуют в обучающих данных, и модель заранее <br>\n",
    "на них обучается"
   ]
  },
  {
   "cell_type": "code",
   "execution_count": 99,
   "metadata": {},
   "outputs": [
    {
     "name": "stderr",
     "output_type": "stream",
     "text": [
      "/home/dmitriy/anaconda3/lib/python3.7/site-packages/lightgbm/basic.py:1188: UserWarning: categorical_feature in Dataset is overridden.\n",
      "New categorical_feature is ['CITY', 'EDUCATION', 'GENDER', 'bad_city', 'form', 'marital_status', 'sphere', 'type']\n",
      "  'New categorical_feature is {}'.format(sorted(list(categorical_feature))))\n",
      "/home/dmitriy/anaconda3/lib/python3.7/site-packages/lightgbm/basic.py:1188: UserWarning: categorical_feature in Dataset is overridden.\n",
      "New categorical_feature is ['CITY', 'EDUCATION', 'GENDER', 'bad_city', 'form', 'marital_status', 'sphere', 'type']\n",
      "  'New categorical_feature is {}'.format(sorted(list(categorical_feature))))\n"
     ]
    },
    {
     "name": "stdout",
     "output_type": "stream",
     "text": [
      "Training until validation scores don't improve for 200 rounds.\n",
      "[100]\tvalid_0's binary_logloss: 0.58689\n",
      "[200]\tvalid_0's binary_logloss: 0.578658\n",
      "[300]\tvalid_0's binary_logloss: 0.578956\n",
      "Early stopping, best iteration is:\n",
      "[198]\tvalid_0's binary_logloss: 0.578538\n"
     ]
    },
    {
     "data": {
      "text/plain": [
       "LGBMClassifier(boosting_type='gbdt', class_weight=None, colsample_bytree=1.0,\n",
       "        importance_type='split', learning_rate=0.01, max_depth=-1,\n",
       "        min_child_samples=20, min_child_weight=0.001, min_split_gain=0.0,\n",
       "        n_estimators=2000, n_jobs=-1, num_leaves=31, objective=None,\n",
       "        random_state=1, reg_alpha=0.0, reg_lambda=0.0, silent=True,\n",
       "        subsample=1.0, subsample_for_bin=200000, subsample_freq=0)"
      ]
     },
     "execution_count": 99,
     "metadata": {},
     "output_type": "execute_result"
    }
   ],
   "source": [
    "# Обучаем классификатор\n",
    "lgbcl.fit(\n",
    "         X_train,  y_train,\n",
    "        eval_set=[( X_test, y_test)],\n",
    "        early_stopping_rounds=200,\n",
    "    categorical_feature=cat_cols,\n",
    "        verbose=100)"
   ]
  },
  {
   "cell_type": "code",
   "execution_count": 100,
   "metadata": {},
   "outputs": [
    {
     "name": "stdout",
     "output_type": "stream",
     "text": [
      "roc-auc = 0.7134097716575252\n"
     ]
    }
   ],
   "source": [
    "# Пoлучаем предсказания и считаем метрики для отложенной выборки\n",
    "y_pred_lgb = lgbcl.predict_proba(X_test)\n",
    "print(f'roc-auc = {roc_auc_score(y_test,y_pred_lgb[:,1])}')"
   ]
  },
  {
   "cell_type": "code",
   "execution_count": 101,
   "metadata": {},
   "outputs": [
    {
     "data": {
      "image/png": "[encoded data removed]",
      "text/plain": [
       "<Figure size 432x288 with 1 Axes>"
      ]
     },
     "metadata": {
      "needs_background": "light"
     },
     "output_type": "display_data"
    }
   ],
   "source": [
    "plot_roc(y_test,y_pred_lgb)"
   ]
  },
  {
   "cell_type": "code",
   "execution_count": 102,
   "metadata": {},
   "outputs": [
    {
     "data": {
      "text/plain": [
       "<matplotlib.axes._subplots.AxesSubplot at 0x7fc70ebab6d8>"
      ]
     },
     "execution_count": 102,
     "metadata": {},
     "output_type": "execute_result"
    },
    {
     "data": {
      "image/png": "[encoded data removed]",
      "text/plain": [
       "<Figure size 1440x864 with 1 Axes>"
      ]
     },
     "metadata": {
      "needs_background": "light"
     },
     "output_type": "display_data"
    }
   ],
   "source": [
    "f_imp = pd.Series(lgbcl.feature_importances_, index = X_test.columns)\n",
    "f_imp = f_imp.sort_values(ascending=False)\n",
    "plt.figure(figsize=(20,12))\n",
    "sns.barplot(x=f_imp.values,y=list(f_imp.index), orient='h')"
   ]
  },
  {
   "cell_type": "markdown",
   "metadata": {},
   "source": [
    "В итоге получилось что логистическая регрессия выдает результат чуть лучше <br>\n",
    "Серьезно улучшить результат не получилось применением разных техник\n"
   ]
  }
 ],
 "metadata": {
  "kernelspec": {
   "display_name": "Python 3",
   "language": "python",
   "name": "python3"
  },
  "language_info": {
   "codemirror_mode": {
    "name": "ipython",
    "version": 3
   },
   "file_extension": ".py",
   "mimetype": "text/x-python",
   "name": "python",
   "nbconvert_exporter": "python",
   "pygments_lexer": "ipython3",
   "version": "3.7.1"
  }
 },
 "nbformat": 4,
 "nbformat_minor": 2
}
