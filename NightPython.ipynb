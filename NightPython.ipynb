{
 "cells": [
  {
   "cell_type": "code",
   "execution_count": 1,
   "metadata": {},
   "outputs": [
    {
     "name": "stdout",
     "output_type": "stream",
     "text": [
      "Populating the interactive namespace from numpy and matplotlib\n"
     ]
    }
   ],
   "source": [
    "%pylab inline\n",
    "\n",
    "import gc\n",
    "import os\n",
    "import pickle\n",
    "import h5py\n",
    "import json\n",
    "import random\n",
    "import time\n",
    "\n",
    "import numpy as np\n",
    "import pandas as pd\n",
    "import lightgbm as lgb\n",
    "\n",
    "from sklearn.metrics import mean_squared_error\n",
    "from datetime import datetime, timedelta\n",
    "\n",
    "pd.set_option('display.max_rows', 100)\n",
    "pd.set_option('display.max_columns', 50)\n",
    "pd.options.mode.chained_assignment = None"
   ]
  },
  {
   "cell_type": "code",
   "execution_count": 2,
   "metadata": {},
   "outputs": [],
   "source": [
    "dataset = pd.read_csv('../data/MSK_train.csv', sep = ';')"
   ]
  },
  {
   "cell_type": "code",
   "execution_count": 3,
   "metadata": {
    "collapsed": true
   },
   "outputs": [],
   "source": [
    "dataset.columns = ['ID', 'TS',\n",
    "                  'BID0', 'VBID0', 'BID1', 'VBID1', 'BID2', 'VBID2', 'BID3', 'VBID3', 'BID4', 'VBID4', \n",
    "                  'BID5', 'VBID5', 'BID6', 'VBID6', 'BID7', 'VBID7', 'BID8', 'VBID8', 'BID9', 'VBID9',\n",
    "                  'ASK0', 'VASK0', 'ASK1', 'VASK1', 'ASK2', 'VASK2', 'ASK3', 'VASK3', 'ASK4', 'VASK4',\n",
    "                  'ASK5', 'VASK5', 'ASK6', 'VASK6', 'ASK7', 'VASK7', 'ASK8', 'VASK8', 'ASK9', 'VASK9', 'Y']"
   ]
  },
  {
   "cell_type": "code",
   "execution_count": 4,
   "metadata": {},
   "outputs": [],
   "source": [
    "\n",
    "tea = dataset[dataset.ID == 'TEA']\n",
    "cofe=dataset[dataset.ID=='COFFEE']\n",
    "yall = np.array(tea.Y)"
   ]
  },
  {
   "cell_type": "code",
   "execution_count": null,
   "metadata": {
    "scrolled": false
   },
   "outputs": [],
   "source": [
    "\n",
    "v=tea\n",
    "p=pd.DataFrame()\n",
    "for i in range(9):\n",
    "    p['diff'+str(i)]=v['ASK'+str(i)]-v['BID'+str(i)]\n",
    "#p = pd.concat([p,tea[['ASK0','BID0','ASK1','BID1']]], axis =1)\n",
    "Xall = p.values\n",
    "lenall = len(Xall)"
   ]
  },
  {
   "cell_type": "code",
   "execution_count": 5,
   "metadata": {
    "collapsed": true
   },
   "outputs": [],
   "source": [
    "c=cofe\n",
    "mid_price=(c['BID0']+c['ASK0'])*0.5\n",
    "yc=pd.Series(mid_price).rolling(window=100).std().shift(-99)\n",
    "yc=yc.dropna(axis=0,how='any')\n",
    "yc = yc.values\n"
   ]
  },
  {
   "cell_type": "code",
   "execution_count": null,
   "metadata": {},
   "outputs": [],
   "source": [
    "#last tom\n",
    "v=tea\n",
    "p=pd.DataFrame()\n",
    "for i in range(9):\n",
    "    p['diff'+str(i)]=v['ASK'+str(i)]-v['BID'+str(i)]\n",
    "for i in range(9):\n",
    "    p['var'+str(i)]=abs(v['VASK'+str(i)]-v['VBID'+str(i)])\n",
    "\n",
    "cp=pd.DataFrame()\n",
    "for i in range(9):\n",
    "    cp['diff'+str(i)]=c['ASK'+str(i)]-c['BID'+str(i)]\n",
    "for i in range(9):\n",
    "    cp['var'+str(i)]=abs(c['VASK'+str(i)]-c['VBID'+str(i)])\n",
    "cp=cp.iloc[:len(yc)]\n",
    "xall=pd.concat([p,cp])\n",
    "Xall = xall.values\n",
    "lenall = len(Xall)"
   ]
  },
  {
   "cell_type": "code",
   "execution_count": 6,
   "metadata": {},
   "outputs": [],
   "source": [
    "#new\n",
    "v=tea\n",
    "p=pd.DataFrame()\n",
    "for i in range(9):\n",
    "    \n",
    "    p['diff'+str(i)]=(v['ASK'+str(i)].rolling(window=1000).mean().shift(-999)-\n",
    "                      v['BID'+str(i)].rolling(window=1000).mean().shift(-999))\n",
    "for i in range(9):\n",
    "#    p['var'+str(i)]=abs(v['VASK'+str(i)].rolling(window=1000).mean().shift(-999)-\n",
    "#                      v['VBID'+str(i)].rolling(window=1000).mean().shift(-999))\n",
    "    p['var'+str(i)]=abs(v['VASK'+str(i)]-v['VBID'+str(i)])\n",
    "p = p.dropna(axis=0,how='any')\n"
   ]
  },
  {
   "cell_type": "code",
   "execution_count": 7,
   "metadata": {},
   "outputs": [],
   "source": [
    "\n",
    "cp=pd.DataFrame()\n",
    "for i in range(9):\n",
    "    cp['diff'+str(i)]=(c['ASK'+str(i)].rolling(window=1000).mean().shift(-999)-\n",
    "                      c['BID'+str(i)].rolling(window=1000).mean().shift(-999))\n",
    "for i in range(9):\n",
    "    cp['var'+str(i)]=abs(c['VASK'+str(i)]-c['VBID'+str(i)])\n",
    "cp=cp.iloc[:len(yc)]\n",
    "xall=pd.concat([p,cp])\n",
    "Xall = xall.values\n",
    "\n",
    "yall = yall[:len(p.values)]\n",
    "\n",
    "\n",
    "\n",
    "\n",
    "lenall = len(Xall)"
   ]
  },
  {
   "cell_type": "code",
   "execution_count": 8,
   "metadata": {},
   "outputs": [],
   "source": [
    "yall = np.append(yall,yc)"
   ]
  },
  {
   "cell_type": "code",
   "execution_count": 9,
   "metadata": {},
   "outputs": [],
   "source": [
    "Xall[np.isnan(Xall)] = 0.\n",
    "yall[np.isnan(yall)] = 0."
   ]
  },
  {
   "cell_type": "code",
   "execution_count": 10,
   "metadata": {
    "collapsed": true
   },
   "outputs": [],
   "source": [
    "assert(0 == np.count_nonzero(np.isnan(Xall)))\n",
    "assert(0 == np.count_nonzero(np.isnan(yall)))"
   ]
  },
  {
   "cell_type": "code",
   "execution_count": 11,
   "metadata": {
    "collapsed": true
   },
   "outputs": [],
   "source": [
    "lgbparam                 = {}\n",
    "lgbparam['metric']       = 'rmse'\n",
    "lgbparam['application']  = 'regression'\n",
    "lgbparam['nthread']      = 4\n",
    "lgbparam['seed']         = 1\n",
    "lgbparam['max_depth']         = 3\n",
    "#lgbparam['learning_rate'] = 0.01\n",
    "#lgbparam['boosting']         = 'dart'\n",
    "#lgbparam['free_raw_data']         = False\n",
    "#lgbparam['n_estimators'] = 20\n",
    "lgbnumround              = 100"
   ]
  },
  {
   "cell_type": "code",
   "execution_count": 12,
   "metadata": {},
   "outputs": [],
   "source": [
    "sep = int(0.5 * lenall)"
   ]
  },
  {
   "cell_type": "code",
   "execution_count": 13,
   "metadata": {},
   "outputs": [
    {
     "name": "stdout",
     "output_type": "stream",
     "text": [
      "(7792562, 7792562)\n"
     ]
    }
   ],
   "source": [
    "print(sep, lenall - sep)"
   ]
  },
  {
   "cell_type": "code",
   "execution_count": 14,
   "metadata": {
    "collapsed": true
   },
   "outputs": [],
   "source": [
    "lgbfull = lgb.Dataset(Xall[:], label=yall[:])\n",
    "lgbtrain = lgb.Dataset(Xall[:sep], label=yall[:sep])\n",
    "lgbtest  = lgb.Dataset(Xall[sep:], label=yall[sep:])"
   ]
  },
  {
   "cell_type": "code",
   "execution_count": 15,
   "metadata": {
    "collapsed": true
   },
   "outputs": [],
   "source": [
    "def rmse(ytrue, ypred):\n",
    "    return np.sqrt(mean_squared_error(ytrue, ypred))"
   ]
  },
  {
   "cell_type": "code",
   "execution_count": null,
   "metadata": {
    "scrolled": false
   },
   "outputs": [],
   "source": [
    "model = lgb.train(lgbparam, lgbtrain, lgbnumround, valid_sets=[lgbtrain, lgbtest], verbose_eval=10)\n",
    "ypred = model.predict(Xall)\n",
    "\n",
    "if sep != 0:\n",
    "    score1 = rmse(yall[:sep], ypred[:sep])\n",
    "    score2 = rmse(yall[sep:], ypred[sep:])\n",
    "    \n",
    "    print(score1)\n",
    "    print(score2)"
   ]
  },
  {
   "cell_type": "code",
   "execution_count": 16,
   "metadata": {
    "collapsed": true
   },
   "outputs": [],
   "source": [
    "model_filename = 'our_model.txt'"
   ]
  },
  {
   "cell_type": "code",
   "execution_count": null,
   "metadata": {
    "collapsed": true
   },
   "outputs": [],
   "source": [
    "# Save pre-trained model\n",
    "model.save_model(model_filename)"
   ]
  },
  {
   "cell_type": "code",
   "execution_count": 17,
   "metadata": {
    "scrolled": true
   },
   "outputs": [
    {
     "name": "stdout",
     "output_type": "stream",
     "text": [
      "[10]\tvalid_0's rmse: 0.195122\tvalid_1's rmse: 0.208989\n",
      "[20]\tvalid_0's rmse: 0.190387\tvalid_1's rmse: 0.205107\n",
      "[30]\tvalid_0's rmse: 0.189292\tvalid_1's rmse: 0.204191\n",
      "[40]\tvalid_0's rmse: 0.188855\tvalid_1's rmse: 0.203857\n",
      "[50]\tvalid_0's rmse: 0.188566\tvalid_1's rmse: 0.203684\n",
      "[60]\tvalid_0's rmse: 0.18843\tvalid_1's rmse: 0.203505\n",
      "[70]\tvalid_0's rmse: 0.188205\tvalid_1's rmse: 0.203383\n",
      "[80]\tvalid_0's rmse: 0.187992\tvalid_1's rmse: 0.203292\n",
      "[90]\tvalid_0's rmse: 0.187736\tvalid_1's rmse: 0.203219\n",
      "[100]\tvalid_0's rmse: 0.187636\tvalid_1's rmse: 0.203137\n"
     ]
    }
   ],
   "source": [
    "#fine train\n",
    "model = lgb.train(lgbparam, lgbfull, lgbnumround, valid_sets=[lgbtrain, lgbtest], verbose_eval=10)"
   ]
  },
  {
   "cell_type": "code",
   "execution_count": 18,
   "metadata": {},
   "outputs": [],
   "source": [
    "model.save_model(model_filename)"
   ]
  },
  {
   "cell_type": "code",
   "execution_count": null,
   "metadata": {
    "collapsed": true
   },
   "outputs": [],
   "source": [
    "# Load pre-trained model\n",
    "loaded_model = lgb.Booster(model_file=model_filename)"
   ]
  },
  {
   "cell_type": "code",
   "execution_count": null,
   "metadata": {
    "scrolled": true
   },
   "outputs": [],
   "source": [
    "from sklearn.model_selection import GridSearchCV\n",
    "from sklearn.metrics import mean_squared_error\n",
    "\n",
    "estimator = lgb.LGBMRegressor(num_leaves=31)\n",
    "\n",
    "param_grid = {\n",
    "    'max_depth': [3, 5, 7, 10, 15 ,20,30, 50]\n",
    "}\n",
    "\n",
    "gbm = GridSearchCV(estimator, param_grid, scoring = 'mean_squared_error')\n",
    "\n",
    "gbm.fit(Xall, yall)"
   ]
  },
  {
   "cell_type": "code",
   "execution_count": null,
   "metadata": {},
   "outputs": [],
   "source": [
    "gbm.best_params_"
   ]
  },
  {
   "cell_type": "code",
   "execution_count": null,
   "metadata": {
    "collapsed": true
   },
   "outputs": [],
   "source": []
  }
 ],
 "metadata": {
  "anaconda-cloud": {},
  "kernelspec": {
   "display_name": "Python 3",
   "language": "python",
   "name": "python3"
  },
  "language_info": {
   "codemirror_mode": {
    "name": "ipython",
    "version": 3
   },
   "file_extension": ".py",
   "mimetype": "text/x-python",
   "name": "python",
   "nbconvert_exporter": "python",
   "pygments_lexer": "ipython3",
   "version": "3.6.1"
  }
 },
 "nbformat": 4,
 "nbformat_minor": 2
}
