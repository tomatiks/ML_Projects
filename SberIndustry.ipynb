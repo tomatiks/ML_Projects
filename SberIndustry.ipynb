{
 "cells": [
  {
   "cell_type": "markdown",
   "metadata": {},
   "source": [
    "Необходимо используя python проставить отрасли для 20000 тысяч компаний из файла df_nodes_test_publ.csv\n",
    "\n",
    "\n",
    "Формат Node,Y <Node>,<Industry>\n",
    "\n",
    "Пример Node,Y 1,32 3,34 …\n",
    "\n",
    "df_edges_orig.csv – факт платежа между двумя компаниями, перевод идет от NodeLeft к NodeRight\n",
    "\n",
    "* NodeLeft – обезличенный инн первой компании;\n",
    "\n",
    "* NodeRight – обезличенный инн второй компании;\n",
    "\n",
    "* Feat1 – обезличенное кол-во переводов;\n",
    "\n",
    "* Feat2 – обезличенная сумма переводов;\n",
    "\n",
    "df_nodes – табличка с клиентами\n",
    "\n",
    "* Node – обезличенный инн компании;\n",
    "\n",
    "* Feat3 – Уточнение отрасли, проставлено только для обучающей выборки, можно использовать, как признак, но не нужно предсказывать;\n",
    "\n",
    "* Feat4 – Регион;\n",
    "\n",
    "* Y – отрасль, таргет переменная, её нужно предсказать на тестовом наборе;"
   ]
  },
  {
   "cell_type": "markdown",
   "metadata": {},
   "source": [
    "## Подготовка данных"
   ]
  },
  {
   "cell_type": "markdown",
   "metadata": {},
   "source": [
    "#### Импортируем нужные библиотеки"
   ]
  },
  {
   "cell_type": "code",
   "execution_count": 1,
   "metadata": {
    "collapsed": true
   },
   "outputs": [],
   "source": [
    "import numpy as np\n",
    "import pandas as pd\n",
    "\n",
    "from collections import Counter\n",
    "\n",
    "from sklearn.model_selection import train_test_split\n",
    "from sklearn.metrics import accuracy_score\n",
    "\n",
    "from sklearn.metrics import accuracy_score\n",
    "from sklearn.model_selection import cross_val_score, StratifiedKFold, GridSearchCV\n",
    "from sklearn.ensemble import RandomForestClassifier\n",
    "from catboost import CatBoostClassifier\n"
   ]
  },
  {
   "cell_type": "code",
   "execution_count": 2,
   "metadata": {
    "collapsed": true
   },
   "outputs": [],
   "source": [
    "# С этими функциями считалось 30 мин :)\n",
    "'''def final_score(nodes,arr):\n",
    "    res=np.array([])\n",
    "    for i in nodes:\n",
    "        res=np.append(res,get_best_industry(i,arr))\n",
    "    return res'''\n",
    "\n",
    "\n",
    "'''def get_best_industry(node, arr):   \n",
    "    industries = [i for (y, i) in arr if node == y]\n",
    "    if len(industries)==0: industries=[0] \n",
    "    \n",
    "    return max(Counter(industries).items(),key=(lambda x: x[1]))[0]'''\n",
    "\n",
    "\n",
    "# А с этими за секунду\n",
    "#Функция возвращает словарь с организацией и наиболее подходящей отраслью (которая чаще всего повторяется)\n",
    "#args: \n",
    "#  intermediate_result-двумерный массив с номером организации и предсказанной ораслью\n",
    "def get_best_industry(intermediate_result):\n",
    "    res={}\n",
    "    for i,j in intermediate_result:           \n",
    "        if i in res:\n",
    "            res[i].append(j)\n",
    "        else:\n",
    "            res[i]=[j]\n",
    "    for i,j in res.items():\n",
    "        res[i]=max(Counter(j).items(),key=(lambda x: x[1]))[0]\n",
    "    return res\n",
    "\n",
    "#Функция возвращает массив подходящих отраслей для введенных организаций \n",
    "#args: \n",
    "#  nodes-список организация для которых ищутся отрасли\n",
    "#  intermediate_result-двумерный массив с номером организации и предсказанной ораслью\n",
    "#return: res-массив подходящих отраслей\n",
    "def final_score(nodes,intermediate_result):\n",
    "    res=np.array([])\n",
    "    res_dict=get_best_industry(intermediate_result)\n",
    "    for i in nodes:\n",
    "        if i in res_dict:\n",
    "            res=np.append(res,res_dict[i])\n",
    "        else:\n",
    "            res=np.append(res,0)\n",
    "    return res"
   ]
  },
  {
   "cell_type": "markdown",
   "metadata": {},
   "source": [
    "\n",
    "#### Считываем данные файлов в датафреймы\n"
   ]
  },
  {
   "cell_type": "code",
   "execution_count": 3,
   "metadata": {
    "collapsed": true
   },
   "outputs": [],
   "source": [
    "edges = pd.read_csv('df_edges_orig.csv', sep=',')\n",
    "nodes = pd.read_csv('df_nodes_train.csv', sep=',')\n",
    "nodes_test = pd.read_csv('df_nodes_test_publ.csv', sep=',')"
   ]
  },
  {
   "cell_type": "markdown",
   "metadata": {},
   "source": [
    "#### Подготавливаем датафреймы"
   ]
  },
  {
   "cell_type": "code",
   "execution_count": 4,
   "metadata": {
    "collapsed": true
   },
   "outputs": [],
   "source": [
    "nodes.columns=[\"Node\",\"Industry\",\"Region\",\"Y\"]\n",
    "nodes_test.columns=[\"Node\",\"Region\"]\n",
    "edges.columns=[\"NodeLeft\",\"NodeRight\",\"Quantity\",\"Amount\"]\n",
    "#Исключаем переводы у которых сумма 0 (они не несут информации)\n",
    "edges=edges[edges['Amount']!=0]\n",
    "edges.drop_duplicates(inplace=True)"
   ]
  },
  {
   "cell_type": "markdown",
   "metadata": {
    "collapsed": true
   },
   "source": [
    "#### Бьем обучающую выборку на train и valid"
   ]
  },
  {
   "cell_type": "code",
   "execution_count": 5,
   "metadata": {
    "collapsed": true
   },
   "outputs": [],
   "source": [
    "nodes_train, nodes_valid, y_train, y_valid = train_test_split(nodes[[\"Node\",\"Region\"]],nodes['Y'],test_size=0.3,random_state=17)"
   ]
  },
  {
   "cell_type": "markdown",
   "metadata": {},
   "source": [
    "Разделяем датафрейм транзакций для обучения и тестирования (для совместного использования с соответствующими датафреймами организаций)"
   ]
  },
  {
   "cell_type": "code",
   "execution_count": 6,
   "metadata": {
    "collapsed": true
   },
   "outputs": [],
   "source": [
    "#В обучающей выборке транзакций должны быть только транзакции у которых с обоих сторон организации из train, чтобы не было\n",
    "#лишних неинформативных данных\n",
    "edges_train=edges[edges['NodeLeft'].isin(nodes['Node'].values) & edges['NodeRight'].isin(nodes['Node'].values)]\n",
    "#Выбираем только те строки в которых есть организации из тестовой выборки и отрезаем часть в которой с обоих сторон \n",
    "#тестовые организации, т. к. по ним нет данных по отрасли\n",
    "edges_test_to=edges[edges['NodeLeft'].isin(nodes_test['Node'].values) & \\\n",
    "                ~(edges['NodeLeft'].isin(nodes_test['Node'].values) & edges['NodeRight'].isin(nodes_test['Node'].values))]\n",
    "edges_test_from=edges[edges['NodeRight'].isin(nodes_test['Node'].values) & \\\n",
    "                ~(edges['NodeLeft'].isin(nodes_test['Node'].values) & edges['NodeRight'].isin(nodes_test['Node'].values))]"
   ]
  },
  {
   "cell_type": "markdown",
   "metadata": {},
   "source": [
    "### Финальные данные"
   ]
  },
  {
   "cell_type": "markdown",
   "metadata": {},
   "source": [
    "#### Создание полной обучающей выборки"
   ]
  },
  {
   "cell_type": "code",
   "execution_count": 7,
   "metadata": {
    "collapsed": true
   },
   "outputs": [],
   "source": [
    "#Создаем объединенную таблицу, присоединяя отрасли и регионы для обоих участинков транзакции\n",
    "nodes=nodes[[\"Node\",\"Region\",\"Y\"]]\n",
    "X_full_train=pd.merge(edges_train, nodes, how='inner',left_on=['NodeLeft'], right_on=['Node'])\n",
    "X_full_train=pd.merge(X_full_train, nodes, how='inner',left_on=['NodeRight'], right_on=['Node'])"
   ]
  },
  {
   "cell_type": "code",
   "execution_count": 8,
   "metadata": {
    "collapsed": true
   },
   "outputs": [],
   "source": [
    "#Добавляем параметр направления транзакции (1 - перевод от целевой организации)\n",
    "X_full_train['from/to']=1\n",
    "#Называем столбцы и формируем необходимый порядок\n",
    "X_full_train.drop(['Node_x','Node_y'],axis=1,inplace=True)\n",
    "X_full_train.columns=['target_node','ad_node','quantity','amount','target_region','target_Y','ad_region','ad_Y','from/to']\n",
    "X_full_train=X_full_train[['target_node','from/to','ad_node','quantity','amount','target_region','ad_region','ad_Y','target_Y']]"
   ]
  },
  {
   "cell_type": "code",
   "execution_count": 9,
   "metadata": {
    "collapsed": true
   },
   "outputs": [],
   "source": [
    "#Формируем перевернутую таблицу, чтобы учесть для организаций перевод как в одну сторону, так и в другую\n",
    "X_full_train_ad=X_full_train[['ad_node','from/to','target_node','quantity','amount','ad_region','target_region','target_Y','ad_Y']].copy()\n",
    "X_full_train_ad.columns=['target_node','from/to','ad_node','quantity','amount','target_region','ad_region','ad_Y','target_Y']\n",
    "#Добавляем параметр направления транзакции (0 - перевод в целевую организацию)\n",
    "X_full_train_ad['from/to']=0"
   ]
  },
  {
   "cell_type": "code",
   "execution_count": 10,
   "metadata": {
    "collapsed": true
   },
   "outputs": [],
   "source": [
    "#Собираем вместе финальную таблицу и формируем X и y\n",
    "X_full_train=pd.concat([X_full_train,X_full_train_ad])\n",
    "y_full_train=X_full_train['target_Y']\n",
    "X_full_train=X_full_train.drop(['target_Y'],axis=1)"
   ]
  },
  {
   "cell_type": "code",
   "execution_count": 11,
   "metadata": {
    "collapsed": true
   },
   "outputs": [],
   "source": [
    "#Обозначаем категориальные столбцы\n",
    "for c in ['from/to', 'ad_node','target_region', 'ad_region', 'ad_Y']:\n",
    "    X_full_train[c].astype('category')\n"
   ]
  },
  {
   "cell_type": "markdown",
   "metadata": {},
   "source": [
    "#### Создание тестовой выборки"
   ]
  },
  {
   "cell_type": "code",
   "execution_count": 12,
   "metadata": {
    "collapsed": true
   },
   "outputs": [],
   "source": [
    "##Создаем объединенную таблицу, присоединяя отрасли и регионы для обоих участинков транзакции, но с одной стороны из валидации\n",
    "#с другой из train\n",
    "X_test_to=pd.merge(edges_test_to, nodes_test, how='inner',left_on=['NodeLeft'], right_on=['Node'])\n",
    "X_test_to=pd.merge(X_test_to, nodes, how='inner',left_on=['NodeRight'], right_on=['Node'])"
   ]
  },
  {
   "cell_type": "code",
   "execution_count": 13,
   "metadata": {
    "collapsed": true
   },
   "outputs": [],
   "source": [
    "#Добавляем параметр направления транзакции (1 - перевод от целевой организации)\n",
    "X_test_to['from/to']=1\n",
    "#Называем столбцы и формируем необходимый порядок\n",
    "X_test_to.drop(['Node_x','Node_y'],axis=1,inplace=True)\n",
    "X_test_to.columns=['target_node','ad_node','quantity','amount','target_region','ad_region','ad_Y','from/to']\n",
    "X_test_to=X_test_to[['target_node','from/to','ad_node','quantity','amount','target_region','ad_region','ad_Y']]"
   ]
  },
  {
   "cell_type": "code",
   "execution_count": 14,
   "metadata": {
    "collapsed": true
   },
   "outputs": [],
   "source": [
    "##Создаем объединенную таблицу, присоединяя отрасли и регионы для обоих участинков транзакции, но с одной стороны из валидации\n",
    "#с другой из train (теперь наоборот)\n",
    "X_test_from=pd.merge(edges_test_from, nodes_test, how='inner',left_on=['NodeRight'], right_on=['Node'])\n",
    "X_test_from=pd.merge(X_test_from, nodes, how='inner',left_on=['NodeLeft'], right_on=['Node'])"
   ]
  },
  {
   "cell_type": "code",
   "execution_count": 15,
   "metadata": {
    "collapsed": true
   },
   "outputs": [],
   "source": [
    "#Добавляем параметр направления транзакции (0 - перевод в целевую организацию)\n",
    "X_test_from['from/to']=0\n",
    "#Называем столбцы и формируем необходимый порядок\n",
    "X_test_from.drop(['Node_x','Node_y'],axis=1,inplace=True)\n",
    "X_test_from.columns=['ad_node','target_node','quantity','amount','target_region','ad_region','ad_Y','from/to']\n",
    "X_test_from=X_test_from[['target_node','from/to','ad_node','quantity','amount','target_region','ad_region','ad_Y']]"
   ]
  },
  {
   "cell_type": "code",
   "execution_count": 16,
   "metadata": {
    "collapsed": true
   },
   "outputs": [],
   "source": [
    "#Собираем вместе финальную таблицу\n",
    "X_test=pd.concat([X_test_to,X_test_from])\n",
    "\n",
    "#Обозначаем категориальные столбцы\n",
    "for c in ['from/to', 'ad_node','target_region', 'ad_region', 'ad_Y']:\n",
    "    X_test[c].astype('category')"
   ]
  },
  {
   "cell_type": "markdown",
   "metadata": {},
   "source": [
    "### Валидационные данные"
   ]
  },
  {
   "cell_type": "markdown",
   "metadata": {},
   "source": [
    "#### Создание обучающей выборки\n",
    "\n"
   ]
  },
  {
   "cell_type": "code",
   "execution_count": 17,
   "metadata": {
    "collapsed": true
   },
   "outputs": [],
   "source": [
    "#Создаем объединенную таблицу, присоединяя отрасли и регионы для обоих участинков транзакции\n",
    "nodes_train=pd.concat([nodes_train,y_train],axis=1)\n",
    "X_train=pd.merge(edges_train, nodes_train, how='inner',left_on=['NodeLeft'], right_on=['Node'])\n",
    "X_train=pd.merge(X_train, nodes_train, how='inner',left_on=['NodeRight'], right_on=['Node'])"
   ]
  },
  {
   "cell_type": "code",
   "execution_count": 18,
   "metadata": {
    "collapsed": true
   },
   "outputs": [],
   "source": [
    "#Добавляем параметр направления транзакции (1 - перевод от целевой организации)\n",
    "X_train['from/to']=1\n",
    "#Называем столбцы и формируем необходимый порядок\n",
    "X_train.drop(['Node_x','Node_y'],axis=1,inplace=True)\n",
    "X_train.columns=['target_node','ad_node','quantity','amount','target_region','target_Y','ad_region','ad_Y','from/to']\n",
    "X_train=X_train[['target_node','from/to','ad_node','quantity','amount','target_region','ad_region','ad_Y','target_Y']]"
   ]
  },
  {
   "cell_type": "code",
   "execution_count": 19,
   "metadata": {
    "collapsed": true
   },
   "outputs": [],
   "source": [
    "#Формируем перевернутую таблицу, чтобы учесть для организаций перевод как в одну сторону, так и в другую\n",
    "X_train_ad=X_train[['ad_node','from/to','target_node','quantity','amount','ad_region','target_region','target_Y','ad_Y']].copy()\n",
    "X_train_ad.columns=['target_node','from/to','ad_node','quantity','amount','target_region','ad_region','ad_Y','target_Y']\n",
    "#Добавляем параметр направления транзакции (0 - перевод в целевую организацию)\n",
    "X_train_ad['from/to']=0"
   ]
  },
  {
   "cell_type": "code",
   "execution_count": 20,
   "metadata": {
    "collapsed": true
   },
   "outputs": [],
   "source": [
    "#Собираем вместе финальную таблицу и формируем X и y\n",
    "X_train=pd.concat([X_train,X_train_ad])\n",
    "y_train=X_train['target_Y']\n",
    "X_train=X_train.drop(['target_Y'],axis=1)"
   ]
  },
  {
   "cell_type": "code",
   "execution_count": 21,
   "metadata": {
    "collapsed": true
   },
   "outputs": [],
   "source": [
    "#Обозначаем категориальные столбцы\n",
    "for c in ['from/to', 'ad_node','target_region', 'ad_region', 'ad_Y']:\n",
    "    X_train[c].astype('category')\n"
   ]
  },
  {
   "cell_type": "markdown",
   "metadata": {},
   "source": [
    "#### Создание валидационной выборки"
   ]
  },
  {
   "cell_type": "code",
   "execution_count": 22,
   "metadata": {
    "collapsed": true
   },
   "outputs": [],
   "source": [
    "#Собираем датафреймы транзакций для валидации аналогично тестовой части\n",
    "edges_valid_to=edges_train[edges_train['NodeLeft'].isin(nodes_valid['Node'].values) & \\\n",
    "                ~(edges_train['NodeLeft'].isin(nodes_valid['Node'].values) & edges_train['NodeRight'].isin(nodes_valid['Node'].values))]\n",
    "edges_valid_from=edges_train[edges_train['NodeRight'].isin(nodes_valid['Node'].values) & \\\n",
    "                ~(edges_train['NodeLeft'].isin(nodes_valid['Node'].values) & edges_train['NodeRight'].isin(nodes_valid['Node'].values))]"
   ]
  },
  {
   "cell_type": "code",
   "execution_count": 23,
   "metadata": {
    "collapsed": true
   },
   "outputs": [],
   "source": [
    "##Создаем объединенную таблицу, присоединяя отрасли и регионы для обоих участинков транзакции, но с одной стороны из валидации\n",
    "#с другой из train\n",
    "X_valid_to=pd.merge(edges_valid_to, nodes_valid, how='inner',left_on=['NodeLeft'], right_on=['Node'])\n",
    "X_valid_to=pd.merge(X_valid_to, nodes_train, how='inner',left_on=['NodeRight'], right_on=['Node'])"
   ]
  },
  {
   "cell_type": "code",
   "execution_count": 24,
   "metadata": {
    "collapsed": true
   },
   "outputs": [],
   "source": [
    "#Добавляем параметр направления транзакции (1 - перевод от целевой организации)\n",
    "X_valid_to['from/to']=1\n",
    "#Называем столбцы и формируем необходимый порядок\n",
    "X_valid_to.drop(['Node_x','Node_y'],axis=1,inplace=True)\n",
    "X_valid_to.columns=['target_node','ad_node','quantity','amount','target_region','ad_region','ad_Y','from/to']\n",
    "X_valid_to=X_valid_to[['target_node','from/to','ad_node','quantity','amount','target_region','ad_region','ad_Y']]"
   ]
  },
  {
   "cell_type": "code",
   "execution_count": 25,
   "metadata": {
    "collapsed": true
   },
   "outputs": [],
   "source": [
    "##Создаем объединенную таблицу, присоединяя отрасли и регионы для обоих участинков транзакции, но с одной стороны из валидации\n",
    "#с другой из train (теперь наоборот)\n",
    "X_valid_from=pd.merge(edges_valid_from, nodes_valid, how='inner',left_on=['NodeRight'], right_on=['Node'])\n",
    "X_valid_from=pd.merge(X_valid_from, nodes_train, how='inner',left_on=['NodeLeft'], right_on=['Node'])"
   ]
  },
  {
   "cell_type": "code",
   "execution_count": 26,
   "metadata": {
    "collapsed": true
   },
   "outputs": [],
   "source": [
    "#Добавляем параметр направления транзакции (0 - перевод в целевую организацию)\n",
    "X_valid_from['from/to']=0\n",
    "#Называем столбцы и формируем необходимый порядок\n",
    "X_valid_from.drop(['Node_x','Node_y'],axis=1,inplace=True)\n",
    "X_valid_from.columns=['ad_node','target_node','quantity','amount','target_region','ad_region','ad_Y','from/to']\n",
    "X_valid_from=X_valid_from[['target_node','from/to','ad_node','quantity','amount','target_region','ad_region','ad_Y']]"
   ]
  },
  {
   "cell_type": "code",
   "execution_count": 27,
   "metadata": {
    "collapsed": true
   },
   "outputs": [],
   "source": [
    "#Собираем вместе финальную таблицу\n",
    "X_validation=pd.concat([X_valid_to,X_valid_from])\n"
   ]
  },
  {
   "cell_type": "code",
   "execution_count": 28,
   "metadata": {
    "collapsed": true
   },
   "outputs": [],
   "source": [
    "#Обозначаем категориальные столбцы\n",
    "for c in ['from/to', 'ad_node','target_region', 'ad_region', 'ad_Y']:\n",
    "    X_validation[c].astype('category')"
   ]
  },
  {
   "cell_type": "markdown",
   "metadata": {
    "collapsed": true
   },
   "source": [
    "# Обучение - валидация"
   ]
  },
  {
   "cell_type": "markdown",
   "metadata": {},
   "source": [
    "### Обучаем дерево\n",
    " \n",
    "  "
   ]
  },
  {
   "cell_type": "code",
   "execution_count": 48,
   "metadata": {
    "collapsed": true
   },
   "outputs": [],
   "source": [
    "# В итоге получились такие параметры\n",
    "rfc = RandomForestClassifier(random_state=17, n_jobs=-1, n_estimators=100,max_depth=20,max_features=2,min_samples_leaf=2) #class_weight='balanced'\n"
   ]
  },
  {
   "cell_type": "markdown",
   "metadata": {},
   "source": [
    "#### Подбираем параметры"
   ]
  },
  {
   "cell_type": "code",
   "execution_count": 31,
   "metadata": {
    "collapsed": true
   },
   "outputs": [],
   "source": [
    "#max_depth_values = [5, 10, 15, 20, 25]\n",
    "max_features_values = [4, 5, 6, 7]\n",
    "tree_params = {#'max_depth': max_depth_values,\n",
    "               'max_features': max_features_values}\n",
    "skf = StratifiedKFold(n_splits=5, shuffle=True, random_state=17)"
   ]
  },
  {
   "cell_type": "code",
   "execution_count": 32,
   "metadata": {},
   "outputs": [
    {
     "name": "stdout",
     "output_type": "stream",
     "text": [
      "Fitting 5 folds for each of 4 candidates, totalling 20 fits\n"
     ]
    },
    {
     "name": "stderr",
     "output_type": "stream",
     "text": [
      "C:\\ProgramData\\Anaconda3\\lib\\site-packages\\sklearn\\model_selection\\_split.py:597: Warning: The least populated class in y has only 3 members, which is too few. The minimum number of members in any class cannot be less than n_splits=5.\n",
      "  % (min_groups, self.n_splits)), Warning)\n",
      "[Parallel(n_jobs=-1)]: Done  20 out of  20 | elapsed: 14.8min finished\n"
     ]
    },
    {
     "data": {
      "text/plain": [
       "GridSearchCV(cv=StratifiedKFold(n_splits=5, random_state=17, shuffle=True),\n",
       "       error_score='raise',\n",
       "       estimator=RandomForestClassifier(bootstrap=True, class_weight=None, criterion='gini',\n",
       "            max_depth=15, max_features='auto', max_leaf_nodes=None,\n",
       "            min_impurity_decrease=0.0, min_impurity_split=None,\n",
       "            min_samples_leaf=1, min_samples_split=2,\n",
       "            min_weight_fraction_leaf=0.0, n_estimators=100, n_jobs=-1,\n",
       "            oob_score=False, random_state=17, verbose=0, warm_start=False),\n",
       "       fit_params=None, iid=True, n_jobs=-1,\n",
       "       param_grid={'max_features': [4, 5, 6, 7]}, pre_dispatch='2*n_jobs',\n",
       "       refit=True, return_train_score=True, scoring='accuracy', verbose=1)"
      ]
     },
     "execution_count": 32,
     "metadata": {},
     "output_type": "execute_result"
    }
   ],
   "source": [
    "gcv = GridSearchCV(rfc, tree_params, scoring='accuracy', n_jobs=-1, cv=skf, verbose=1)\n",
    "gcv.fit(X_train,y_train)"
   ]
  },
  {
   "cell_type": "code",
   "execution_count": 34,
   "metadata": {},
   "outputs": [
    {
     "data": {
      "text/plain": [
       "0.53178293319964098"
      ]
     },
     "execution_count": 34,
     "metadata": {},
     "output_type": "execute_result"
    }
   ],
   "source": [
    "gcv.best_params_"
   ]
  },
  {
   "cell_type": "markdown",
   "metadata": {},
   "source": [
    "#### Валидируем наше решение"
   ]
  },
  {
   "cell_type": "code",
   "execution_count": 49,
   "metadata": {},
   "outputs": [
    {
     "data": {
      "text/plain": [
       "RandomForestClassifier(bootstrap=True, class_weight=None, criterion='gini',\n",
       "            max_depth=20, max_features=2, max_leaf_nodes=None,\n",
       "            min_impurity_decrease=0.0, min_impurity_split=None,\n",
       "            min_samples_leaf=2, min_samples_split=2,\n",
       "            min_weight_fraction_leaf=0.0, n_estimators=130, n_jobs=-1,\n",
       "            oob_score=False, random_state=17, verbose=0, warm_start=False)"
      ]
     },
     "execution_count": 49,
     "metadata": {},
     "output_type": "execute_result"
    }
   ],
   "source": [
    "rfc.fit(X_train,y_train)"
   ]
  },
  {
   "cell_type": "code",
   "execution_count": 1,
   "metadata": {},
   "outputs": [
    {
     "ename": "NameError",
     "evalue": "name 'rfc' is not defined",
     "output_type": "error",
     "traceback": [
      "\u001b[1;31m---------------------------------------------------------------------------\u001b[0m",
      "\u001b[1;31mNameError\u001b[0m                                 Traceback (most recent call last)",
      "\u001b[1;32m<ipython-input-1-fff9c86d00ef>\u001b[0m in \u001b[0;36m<module>\u001b[1;34m()\u001b[0m\n\u001b[1;32m----> 1\u001b[1;33m \u001b[0my_val_res\u001b[0m\u001b[1;33m=\u001b[0m\u001b[0mrfc\u001b[0m\u001b[1;33m.\u001b[0m\u001b[0mpredict\u001b[0m\u001b[1;33m(\u001b[0m\u001b[0mX_validation\u001b[0m\u001b[1;33m)\u001b[0m\u001b[1;33m\u001b[0m\u001b[0m\n\u001b[0m",
      "\u001b[1;31mNameError\u001b[0m: name 'rfc' is not defined"
     ]
    }
   ],
   "source": [
    "y_valid_result=rfc.predict(X_validation)\n"
   ]
  },
  {
   "cell_type": "code",
   "execution_count": null,
   "metadata": {
    "collapsed": true
   },
   "outputs": [],
   "source": [
    "# Приводим промежуточный результат к двумерному массиву\n",
    "intermediate_result=X_validation['target_node'].values\n",
    "y_valid_result=np.array(y_valid_result)\n",
    "intermediate_result=np.dstack((intermediate_result,y_valid_result))\n",
    "intermediate_result=np.reshape(intermediate_result,(-1,2))"
   ]
  },
  {
   "cell_type": "code",
   "execution_count": null,
   "metadata": {
    "collapsed": true
   },
   "outputs": [],
   "source": [
    "# С помощью функции получаем итоговые предсказания, которые можно сравнивать \n",
    "final=final_score(nodes_valid['Node'].values,intermediate_result)"
   ]
  },
  {
   "cell_type": "code",
   "execution_count": 47,
   "metadata": {},
   "outputs": [
    {
     "data": {
      "text/plain": [
       "0.20443228038164746"
      ]
     },
     "execution_count": 47,
     "metadata": {},
     "output_type": "execute_result"
    }
   ],
   "source": [
    "#Получаем долю верных ответов \n",
    "accuracy_score(y_valid.values,final.astype(int))"
   ]
  },
  {
   "cell_type": "markdown",
   "metadata": {},
   "source": [
    "#### К сожеланию, удалось получить долю верных ответов на отложенной выборке только 20%"
   ]
  },
  {
   "cell_type": "markdown",
   "metadata": {
    "collapsed": true
   },
   "source": [
    "### Используем catboost"
   ]
  },
  {
   "cell_type": "markdown",
   "metadata": {
    "collapsed": true
   },
   "source": [
    "#### Пытаемся обучить catboost"
   ]
  },
  {
   "cell_type": "code",
   "execution_count": 34,
   "metadata": {},
   "outputs": [
    {
     "data": {
      "text/plain": [
       "<catboost.core.CatBoostClassifier at 0xa650e48>"
      ]
     },
     "execution_count": 34,
     "metadata": {},
     "output_type": "execute_result"
    }
   ],
   "source": [
    "model = CatBoostClassifier(random_seed=17,loss_function='MultiClass',iterations=2, learning_rate=1, depth=2)\n",
    "model.fit(X_train, y_train, cat_features=[1,2,5,6,7])"
   ]
  },
  {
   "cell_type": "code",
   "execution_count": 30,
   "metadata": {
    "collapsed": true
   },
   "outputs": [],
   "source": [
    "pred_class = model.predict(X_validation)"
   ]
  },
  {
   "cell_type": "code",
   "execution_count": 31,
   "metadata": {
    "collapsed": true
   },
   "outputs": [],
   "source": [
    "# Приводим промежуточный результат к двумерному массиву\n",
    "intermediate_result=X_validation['target_node'].values\n",
    "pred_class=np.reshape(pred_class,(-1))\n",
    "intermediate_result=np.dstack((intermediate_result,pred_class))\n",
    "intermediate_result=np.reshape(intermediate_result,(-1,2))"
   ]
  },
  {
   "cell_type": "code",
   "execution_count": 32,
   "metadata": {
    "collapsed": true
   },
   "outputs": [],
   "source": [
    "final_cat=final_score(nodes_valid['Node'].values,intermediate_result)"
   ]
  },
  {
   "cell_type": "code",
   "execution_count": 33,
   "metadata": {},
   "outputs": [
    {
     "data": {
      "text/plain": [
       "0.050860987569848332"
      ]
     },
     "execution_count": 33,
     "metadata": {},
     "output_type": "execute_result"
    }
   ],
   "source": [
    "accuracy_score(y_valid.values,final_cat.astype(int))"
   ]
  },
  {
   "cell_type": "markdown",
   "metadata": {
    "collapsed": true
   },
   "source": [
    "#### С catboost получилось еще хуже, максимум показывало долю 5% (видимо что-то делаю не так)"
   ]
  },
  {
   "cell_type": "markdown",
   "metadata": {
    "collapsed": true
   },
   "source": [
    "## Финальное обучение"
   ]
  },
  {
   "cell_type": "markdown",
   "metadata": {},
   "source": [
    "#### Исходя из предыдущих результатов я выбрал финальный алгоритм на деревьях"
   ]
  },
  {
   "cell_type": "code",
   "execution_count": 86,
   "metadata": {
    "collapsed": true
   },
   "outputs": [],
   "source": [
    "f_rfc = RandomForestClassifier(random_state=17, n_jobs=-1, n_estimators=100,max_depth=20,max_features=2,min_samples_leaf=2)"
   ]
  },
  {
   "cell_type": "code",
   "execution_count": 87,
   "metadata": {
    "collapsed": true
   },
   "outputs": [],
   "source": [
    "f_rfc.fit(X_full_train,y_full_train)\n",
    "f_y_valid_result=f_rfc.predict(X_test)"
   ]
  },
  {
   "cell_type": "code",
   "execution_count": 88,
   "metadata": {
    "collapsed": true
   },
   "outputs": [],
   "source": [
    "# Приводим промежуточный результат к двумерному массиву\n",
    "f_intermediate_result=X_test['target_node'].values\n",
    "f_y_valid_result=np.array(f_y_valid_result)\n",
    "f_intermediate_result=np.dstack((f_intermediate_result,f_y_valid_result))\n",
    "f_intermediate_result=np.reshape(f_intermediate_result,(-1,2))"
   ]
  },
  {
   "cell_type": "code",
   "execution_count": 89,
   "metadata": {
    "collapsed": true
   },
   "outputs": [],
   "source": [
    "# С помощью функции получаем итоговые предсказания, которые можно сравнивать \n",
    "f_final=final_score(nodes_test['Node'].values,f_intermediate_result)"
   ]
  },
  {
   "cell_type": "code",
   "execution_count": 90,
   "metadata": {
    "collapsed": true
   },
   "outputs": [],
   "source": [
    "#Формируем датафрейм, чтобы выгрузить в csv\n",
    "f_test = pd.read_csv('df_nodes_test_publ.csv', sep=',')\n",
    "f_test.drop(['Feat4'],axis=1,inplace=True)"
   ]
  },
  {
   "cell_type": "code",
   "execution_count": 91,
   "metadata": {
    "collapsed": true
   },
   "outputs": [],
   "source": [
    "f_test['Y']=f_final.astype(int)\n",
    "f_test.to_csv('SakharovDmitriy-24092017-SberbankIndustry.csv', index=False, header=True)"
   ]
  },
  {
   "cell_type": "code",
   "execution_count": null,
   "metadata": {
    "collapsed": true
   },
   "outputs": [],
   "source": []
  }
 ],
 "metadata": {
  "kernelspec": {
   "display_name": "Python 3",
   "language": "python",
   "name": "python3"
  },
  "language_info": {
   "codemirror_mode": {
    "name": "ipython",
    "version": 3
   },
   "file_extension": ".py",
   "mimetype": "text/x-python",
   "name": "python",
   "nbconvert_exporter": "python",
   "pygments_lexer": "ipython3",
   "version": "3.6.1"
  }
 },
 "nbformat": 4,
 "nbformat_minor": 2
}
